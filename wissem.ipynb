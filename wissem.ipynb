{
 "cells": [
  {
   "cell_type": "markdown",
   "metadata": {},
   "source": [
    "# Les réactions (likes , shares , comments)"
   ]
  },
  {
   "cell_type": "markdown",
   "metadata": {},
   "source": [
    "## Imports"
   ]
  },
  {
   "cell_type": "code",
   "execution_count": 1,
   "metadata": {},
   "outputs": [],
   "source": [
    "import pandas as pd\n",
    "import numpy as np\n",
    "import  matplotlib.pyplot as plt"
   ]
  },
  {
   "cell_type": "markdown",
   "metadata": {},
   "source": [
    "## Lecture du DataSet"
   ]
  },
  {
   "cell_type": "code",
   "execution_count": 2,
   "metadata": {},
   "outputs": [
    {
     "data": {
      "text/html": [
       "<div>\n",
       "<style scoped>\n",
       "    .dataframe tbody tr th:only-of-type {\n",
       "        vertical-align: middle;\n",
       "    }\n",
       "\n",
       "    .dataframe tbody tr th {\n",
       "        vertical-align: top;\n",
       "    }\n",
       "\n",
       "    .dataframe thead th {\n",
       "        text-align: right;\n",
       "    }\n",
       "</style>\n",
       "<table border=\"1\" class=\"dataframe\">\n",
       "  <thead>\n",
       "    <tr style=\"text-align: right;\">\n",
       "      <th></th>\n",
       "      <th>source_id</th>\n",
       "      <th>source_name</th>\n",
       "      <th>author</th>\n",
       "      <th>title</th>\n",
       "      <th>description</th>\n",
       "      <th>url</th>\n",
       "      <th>url_to_image</th>\n",
       "      <th>published_at</th>\n",
       "      <th>content</th>\n",
       "      <th>top_article</th>\n",
       "      <th>engagement_reaction_count</th>\n",
       "      <th>engagement_comment_count</th>\n",
       "      <th>engagement_share_count</th>\n",
       "      <th>engagement_comment_plugin_count</th>\n",
       "    </tr>\n",
       "    <tr>\n",
       "      <th>index</th>\n",
       "      <th></th>\n",
       "      <th></th>\n",
       "      <th></th>\n",
       "      <th></th>\n",
       "      <th></th>\n",
       "      <th></th>\n",
       "      <th></th>\n",
       "      <th></th>\n",
       "      <th></th>\n",
       "      <th></th>\n",
       "      <th></th>\n",
       "      <th></th>\n",
       "      <th></th>\n",
       "      <th></th>\n",
       "    </tr>\n",
       "  </thead>\n",
       "  <tbody>\n",
       "    <tr>\n",
       "      <th>0</th>\n",
       "      <td>reuters</td>\n",
       "      <td>Reuters</td>\n",
       "      <td>Reuters Editorial</td>\n",
       "      <td>NTSB says Autopilot engaged in 2018 California...</td>\n",
       "      <td>The National Transportation Safety Board said ...</td>\n",
       "      <td>https://www.reuters.com/article/us-tesla-crash...</td>\n",
       "      <td>https://s4.reutersmedia.net/resources/r/?m=02&amp;...</td>\n",
       "      <td>2019-09-03T16:22:20Z</td>\n",
       "      <td>WASHINGTON (Reuters) - The National Transporta...</td>\n",
       "      <td>0.0</td>\n",
       "      <td>0.0</td>\n",
       "      <td>0.0</td>\n",
       "      <td>2528.0</td>\n",
       "      <td>0.0</td>\n",
       "    </tr>\n",
       "    <tr>\n",
       "      <th>1</th>\n",
       "      <td>the-irish-times</td>\n",
       "      <td>The Irish Times</td>\n",
       "      <td>Eoin Burke-Kennedy</td>\n",
       "      <td>Unemployment falls to post-crash low of 5.2%</td>\n",
       "      <td>Latest monthly figures reflect continued growt...</td>\n",
       "      <td>https://www.irishtimes.com/business/economy/un...</td>\n",
       "      <td>https://www.irishtimes.com/image-creator/?id=1...</td>\n",
       "      <td>2019-09-03T10:32:28Z</td>\n",
       "      <td>The States jobless rate fell to 5.2 per cent l...</td>\n",
       "      <td>0.0</td>\n",
       "      <td>6.0</td>\n",
       "      <td>10.0</td>\n",
       "      <td>2.0</td>\n",
       "      <td>0.0</td>\n",
       "    </tr>\n",
       "    <tr>\n",
       "      <th>2</th>\n",
       "      <td>the-irish-times</td>\n",
       "      <td>The Irish Times</td>\n",
       "      <td>Deirdre McQuillan</td>\n",
       "      <td>Louise Kennedy AW2019: Long coats, sparkling t...</td>\n",
       "      <td>Autumn-winter collection features designer’s g...</td>\n",
       "      <td>https://www.irishtimes.com/\\t\\t\\t\\t\\t\\t\\t/life...</td>\n",
       "      <td>https://www.irishtimes.com/image-creator/?id=1...</td>\n",
       "      <td>2019-09-03T14:40:00Z</td>\n",
       "      <td>Louise Kennedy is showing off her autumn-winte...</td>\n",
       "      <td>1.0</td>\n",
       "      <td>NaN</td>\n",
       "      <td>NaN</td>\n",
       "      <td>NaN</td>\n",
       "      <td>NaN</td>\n",
       "    </tr>\n",
       "  </tbody>\n",
       "</table>\n",
       "</div>"
      ],
      "text/plain": [
       "             source_id      source_name              author  \\\n",
       "index                                                         \n",
       "0              reuters          Reuters   Reuters Editorial   \n",
       "1      the-irish-times  The Irish Times  Eoin Burke-Kennedy   \n",
       "2      the-irish-times  The Irish Times   Deirdre McQuillan   \n",
       "\n",
       "                                                   title  \\\n",
       "index                                                      \n",
       "0      NTSB says Autopilot engaged in 2018 California...   \n",
       "1           Unemployment falls to post-crash low of 5.2%   \n",
       "2      Louise Kennedy AW2019: Long coats, sparkling t...   \n",
       "\n",
       "                                             description  \\\n",
       "index                                                      \n",
       "0      The National Transportation Safety Board said ...   \n",
       "1      Latest monthly figures reflect continued growt...   \n",
       "2      Autumn-winter collection features designer’s g...   \n",
       "\n",
       "                                                     url  \\\n",
       "index                                                      \n",
       "0      https://www.reuters.com/article/us-tesla-crash...   \n",
       "1      https://www.irishtimes.com/business/economy/un...   \n",
       "2      https://www.irishtimes.com/\\t\\t\\t\\t\\t\\t\\t/life...   \n",
       "\n",
       "                                            url_to_image  \\\n",
       "index                                                      \n",
       "0      https://s4.reutersmedia.net/resources/r/?m=02&...   \n",
       "1      https://www.irishtimes.com/image-creator/?id=1...   \n",
       "2      https://www.irishtimes.com/image-creator/?id=1...   \n",
       "\n",
       "               published_at  \\\n",
       "index                         \n",
       "0      2019-09-03T16:22:20Z   \n",
       "1      2019-09-03T10:32:28Z   \n",
       "2      2019-09-03T14:40:00Z   \n",
       "\n",
       "                                                 content  top_article  \\\n",
       "index                                                                   \n",
       "0      WASHINGTON (Reuters) - The National Transporta...          0.0   \n",
       "1      The States jobless rate fell to 5.2 per cent l...          0.0   \n",
       "2      Louise Kennedy is showing off her autumn-winte...          1.0   \n",
       "\n",
       "       engagement_reaction_count  engagement_comment_count  \\\n",
       "index                                                        \n",
       "0                            0.0                       0.0   \n",
       "1                            6.0                      10.0   \n",
       "2                            NaN                       NaN   \n",
       "\n",
       "       engagement_share_count  engagement_comment_plugin_count  \n",
       "index                                                           \n",
       "0                      2528.0                              0.0  \n",
       "1                         2.0                              0.0  \n",
       "2                         NaN                              NaN  "
      ]
     },
     "execution_count": 2,
     "metadata": {},
     "output_type": "execute_result"
    }
   ],
   "source": [
    "df = pd.read_csv(\"articles_data.csv\", index_col='index')\n",
    "df.head(3)"
   ]
  },
  {
   "cell_type": "markdown",
   "metadata": {},
   "source": [
    "## l'impact de la longueur du titre sur  Les réactions"
   ]
  },
  {
   "cell_type": "code",
   "execution_count": 3,
   "metadata": {},
   "outputs": [
    {
     "data": {
      "text/html": [
       "<div>\n",
       "<style scoped>\n",
       "    .dataframe tbody tr th:only-of-type {\n",
       "        vertical-align: middle;\n",
       "    }\n",
       "\n",
       "    .dataframe tbody tr th {\n",
       "        vertical-align: top;\n",
       "    }\n",
       "\n",
       "    .dataframe thead th {\n",
       "        text-align: right;\n",
       "    }\n",
       "</style>\n",
       "<table border=\"1\" class=\"dataframe\">\n",
       "  <thead>\n",
       "    <tr style=\"text-align: right;\">\n",
       "      <th></th>\n",
       "      <th>reactions_count</th>\n",
       "    </tr>\n",
       "    <tr>\n",
       "      <th>title_length</th>\n",
       "      <th></th>\n",
       "    </tr>\n",
       "  </thead>\n",
       "  <tbody>\n",
       "    <tr>\n",
       "      <th>250.0</th>\n",
       "      <td>1753.0</td>\n",
       "    </tr>\n",
       "    <tr>\n",
       "      <th>230.0</th>\n",
       "      <td>1.0</td>\n",
       "    </tr>\n",
       "    <tr>\n",
       "      <th>220.0</th>\n",
       "      <td>100.0</td>\n",
       "    </tr>\n",
       "    <tr>\n",
       "      <th>194.0</th>\n",
       "      <td>23.0</td>\n",
       "    </tr>\n",
       "    <tr>\n",
       "      <th>192.0</th>\n",
       "      <td>68.0</td>\n",
       "    </tr>\n",
       "    <tr>\n",
       "      <th>189.0</th>\n",
       "      <td>571.0</td>\n",
       "    </tr>\n",
       "  </tbody>\n",
       "</table>\n",
       "</div>"
      ],
      "text/plain": [
       "              reactions_count\n",
       "title_length                 \n",
       "250.0                  1753.0\n",
       "230.0                     1.0\n",
       "220.0                   100.0\n",
       "194.0                    23.0\n",
       "192.0                    68.0\n",
       "189.0                   571.0"
      ]
     },
     "execution_count": 3,
     "metadata": {},
     "output_type": "execute_result"
    }
   ],
   "source": [
    "# Ajouter une colonne pour la taille des titre \n",
    "df['title_length']= df['title'].str.len() \n",
    "\n",
    "# calculer le total des commentaires shares et likes\n",
    "df['reactions_count'] = df['engagement_reaction_count'] + df['engagement_comment_count'] + df['engagement_share_count'] \n",
    "\n",
    "# Nombre de reaction par longeur de titre\n",
    "df[['title_length','reactions_count']].groupby('title_length').sum('reactions_count').sort_values(['title_length'], ascending=[False]).head(6)"
   ]
  },
  {
   "cell_type": "code",
   "execution_count": 18,
   "metadata": {},
   "outputs": [
    {
     "data": {
      "image/png": "[encoded data removed]",
      "text/plain": [
       "<Figure size 432x288 with 1 Axes>"
      ]
     },
     "metadata": {
      "needs_background": "light"
     },
     "output_type": "display_data"
    }
   ],
   "source": [
    "plt.xlabel('taille des titres')\n",
    "plt.ylabel('les reactions')\n",
    "plt.hist(df.title_length)\n",
    "plt.show()\n"
   ]
  },
  {
   "cell_type": "markdown",
   "metadata": {},
   "source": [
    "# l'impact de la longueur de l'article sur les réactions"
   ]
  },
  {
   "cell_type": "code",
   "execution_count": 5,
   "metadata": {},
   "outputs": [
    {
     "data": {
      "text/html": [
       "<div>\n",
       "<style scoped>\n",
       "    .dataframe tbody tr th:only-of-type {\n",
       "        vertical-align: middle;\n",
       "    }\n",
       "\n",
       "    .dataframe tbody tr th {\n",
       "        vertical-align: top;\n",
       "    }\n",
       "\n",
       "    .dataframe thead th {\n",
       "        text-align: right;\n",
       "    }\n",
       "</style>\n",
       "<table border=\"1\" class=\"dataframe\">\n",
       "  <thead>\n",
       "    <tr style=\"text-align: right;\">\n",
       "      <th></th>\n",
       "      <th>reactions_count</th>\n",
       "    </tr>\n",
       "    <tr>\n",
       "      <th>article_length</th>\n",
       "      <th></th>\n",
       "    </tr>\n",
       "  </thead>\n",
       "  <tbody>\n",
       "    <tr>\n",
       "      <th>276.0</th>\n",
       "      <td>0.0</td>\n",
       "    </tr>\n",
       "    <tr>\n",
       "      <th>275.0</th>\n",
       "      <td>36023.0</td>\n",
       "    </tr>\n",
       "    <tr>\n",
       "      <th>274.0</th>\n",
       "      <td>3514433.0</td>\n",
       "    </tr>\n",
       "    <tr>\n",
       "      <th>273.0</th>\n",
       "      <td>1882312.0</td>\n",
       "    </tr>\n",
       "    <tr>\n",
       "      <th>272.0</th>\n",
       "      <td>461553.0</td>\n",
       "    </tr>\n",
       "    <tr>\n",
       "      <th>271.0</th>\n",
       "      <td>104283.0</td>\n",
       "    </tr>\n",
       "  </tbody>\n",
       "</table>\n",
       "</div>"
      ],
      "text/plain": [
       "                reactions_count\n",
       "article_length                 \n",
       "276.0                       0.0\n",
       "275.0                   36023.0\n",
       "274.0                 3514433.0\n",
       "273.0                 1882312.0\n",
       "272.0                  461553.0\n",
       "271.0                  104283.0"
      ]
     },
     "execution_count": 5,
     "metadata": {},
     "output_type": "execute_result"
    }
   ],
   "source": [
    "# Ajouter une colonne pour la taille de l'article \n",
    "df['article_length']= df['content'].str.len() \n",
    "\n",
    "# Regrouper le nombre des reactions par rapport à la tailles des contenu\n",
    "df[['article_length','reactions_count']].groupby('article_length').sum('reactions_count').sort_values(['article_length'], ascending=[False]).head(6)"
   ]
  },
  {
   "cell_type": "markdown",
   "metadata": {},
   "source": [
    "### Graphe reaction par taille d'article"
   ]
  },
  {
   "cell_type": "code",
   "execution_count": 17,
   "metadata": {},
   "outputs": [
    {
     "ename": "NameError",
     "evalue": "name 'article_length' is not defined",
     "output_type": "error",
     "traceback": [
      "\u001b[1;31m---------------------------------------------------------------------------\u001b[0m",
      "\u001b[1;31mNameError\u001b[0m                                 Traceback (most recent call last)",
      "\u001b[1;32m<ipython-input-17-326d2f92c799>\u001b[0m in \u001b[0;36m<module>\u001b[1;34m\u001b[0m\n\u001b[1;32m----> 1\u001b[1;33m \u001b[0maxes\u001b[0m\u001b[1;33m=\u001b[0m\u001b[0mdf\u001b[0m\u001b[1;33m[\u001b[0m\u001b[0marticle_length\u001b[0m\u001b[1;33m,\u001b[0m\u001b[0mreactions_count\u001b[0m\u001b[1;33m]\u001b[0m\u001b[1;33m\u001b[0m\u001b[1;33m\u001b[0m\u001b[0m\n\u001b[0m\u001b[0;32m      2\u001b[0m \u001b[0mplt\u001b[0m\u001b[1;33m.\u001b[0m\u001b[0mhist\u001b[0m\u001b[1;33m(\u001b[0m\u001b[0maxes\u001b[0m\u001b[1;33m)\u001b[0m\u001b[1;33m\u001b[0m\u001b[1;33m\u001b[0m\u001b[0m\n\u001b[0;32m      3\u001b[0m \u001b[0mplt\u001b[0m\u001b[1;33m.\u001b[0m\u001b[0mshow\u001b[0m\u001b[1;33m(\u001b[0m\u001b[1;33m)\u001b[0m\u001b[1;33m\u001b[0m\u001b[1;33m\u001b[0m\u001b[0m\n",
      "\u001b[1;31mNameError\u001b[0m: name 'article_length' is not defined"
     ]
    }
   ],
   "source": [
    "plt.hist(df.article_length)\n",
    "plt.show()"
   ]
  },
  {
   "cell_type": "markdown",
   "metadata": {},
   "source": [
    "# Le nombre d'article partagé liké et non liké\n"
   ]
  },
  {
   "cell_type": "code",
   "execution_count": 7,
   "metadata": {},
   "outputs": [
    {
     "name": "stdout",
     "output_type": "stream",
     "text": [
      "Le Nombre d'article partagé  : 7834\n",
      "Le Nombre d'article partagé Liké  : 5513\n",
      "Le Nombre d'article partagé non liké  : 2321\n"
     ]
    }
   ],
   "source": [
    "# Nombre d'article partagé \n",
    "nbArticleShared = len(df.query('engagement_share_count > 0'))\n",
    "\n",
    "# Nombre d'article partagé qui sont liké\n",
    "nbArticleSharedLiked = len(df.query('engagement_share_count > 0 \\\n",
    "                              and engagement_reaction_count > 0'))\n",
    "\n",
    "# Nombre d'article partagé qui ne sont pas liké\n",
    "nbTotalArticleSharedNonLike=len(df.query('engagement_share_count > 0 \\\n",
    "                                          and engagement_reaction_count <= 0'))\n",
    "\n",
    "print(\"Le Nombre d'article partagé  : \"+ str(nbArticleShared))\n",
    "print(\"Le Nombre d'article partagé Liké  : \"+ str(nbArticleSharedLiked))\n",
    "print(\"Le Nombre d'article partagé non liké  : \"+ str(nbTotalArticleSharedNonLike))\n"
   ]
  },
  {
   "cell_type": "markdown",
   "metadata": {},
   "source": [
    "### Graphe partagés likés et non likés"
   ]
  },
  {
   "cell_type": "code",
   "execution_count": 16,
   "metadata": {
    "scrolled": true
   },
   "outputs": [
    {
     "data": {
      "image/png": "[encoded data removed]",
      "text/plain": [
       "<Figure size 432x288 with 1 Axes>"
      ]
     },
     "metadata": {},
     "output_type": "display_data"
    }
   ],
   "source": [
    "articleSahred = [nbArticleSharedLiked , nbTotalArticleSharedNonLike]\n",
    "labels = ['Shared_liked_article', 'Shared_noliked_article']\n",
    "explode = (0,1, 0)\n",
    "plt.title('Pourcentage article partagés likés et non likés',fontdict={'fontweight': 600,'fontsize':16},y=-0.2)\n",
    "plt.pie(articleSahred, labels=labels , autopct = '%1.2f%%' , explode = (0, 0.1))\n",
    "plt.legend(('Shared_liked','shared_noliked'),bbox_to_anchor=(0.9, 0.9))\n",
    "plt.savefig('pourcentageLikedNoliked',dpi=300)\n",
    "plt.show()"
   ]
  }
 ],
 "metadata": {
  "kernelspec": {
   "display_name": "Python 3",
   "language": "python",
   "name": "python3"
  },
  "language_info": {
   "codemirror_mode": {
    "name": "ipython",
    "version": 3
   },
   "file_extension": ".py",
   "mimetype": "text/x-python",
   "name": "python",
   "nbconvert_exporter": "python",
   "pygments_lexer": "ipython3",
   "version": "3.9.0"
  }
 },
 "nbformat": 4,
 "nbformat_minor": 4
}
