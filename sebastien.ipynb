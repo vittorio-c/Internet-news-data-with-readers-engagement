{
 "cells": [
  {
   "cell_type": "code",
   "execution_count": 1,
   "metadata": {},
   "outputs": [],
   "source": [
    "import matplotlib.pyplot as plt\n",
    "import pandas as pd\n",
    "\n",
    "pd.options.mode.chained_assignment = None"
   ]
  },
  {
   "cell_type": "code",
   "execution_count": 2,
   "metadata": {},
   "outputs": [],
   "source": [
    "df = pd.read_csv(\"articles_data.csv\", index_col=\"index\")"
   ]
  },
  {
   "cell_type": "code",
   "execution_count": 3,
   "metadata": {},
   "outputs": [],
   "source": [
    "# Create pie chart with matplotlib\n",
    "def createPieChart(title, datas, labels, explode, autopct = '%1.2f%%') :\n",
    "    fig, ax = plt.subplots()\n",
    "    \n",
    "    ax.pie(datas, explode=explode, labels=labels, autopct=autopct,\n",
    "            shadow=True, startangle=90)\n",
    "    ax.axis('equal')  # Equal aspect ratio ensures that pie is drawn as a circle.\n",
    "\n",
    "    plt.title(title)\n",
    "\n",
    "    plt.show()"
   ]
  },
  {
   "cell_type": "code",
   "execution_count": 4,
   "metadata": {},
   "outputs": [],
   "source": [
    "# Create Bar Horizontal chart with matplotlib\n",
    "def createBarHChart(title, datas, labels, colors = ['blue']) :\n",
    "    barWidth = 0.7\n",
    "\n",
    "    r = range(len(datas))\n",
    "\n",
    "    plt.yticks(range(len(datas)), labels)\n",
    "    \n",
    "    plt.title(title)\n",
    "\n",
    "    plt.barh(r, datas, height = barWidth, color = colors)"
   ]
  },
  {
   "cell_type": "code",
   "execution_count": 8,
   "metadata": {
    "scrolled": true
   },
   "outputs": [],
   "source": [
    "# Quel pourcentage d'articles likés est également partagés\n",
    "df.fillna(0)\n",
    "# df = df.drop(750)\n",
    "df.published_at = pd.to_datetime(df.published_at)\n",
    "# nombre d'article total\n",
    "nbArticle = len(df)\n",
    "# nombre d'article liké\n",
    "nbArticleLike = len(df.query('engagement_reaction_count > 0'))\n",
    "# nombre d'article liké et partagé\n",
    "nbArticleLikeAndShare = len(df.query('engagement_reaction_count > 0 \\\n",
    "                                      and engagement_share_count > 0'))\n",
    "# nombre d'article liké et commenté\n",
    "nbArticleLikeAndComment = len(df.query('engagement_reaction_count > 0 \\\n",
    "                                        and engagement_comment_count > 0'))\n",
    "# nombre d'article liké, partagé et commenté\n",
    "nbArticleLikeAndShareAndComment = len(df.query('engagement_reaction_count > 0 \\\n",
    "                                                and engagement_share_count > 0 \\\n",
    "                                                and engagement_comment_count > 0'))\n",
    "datas = [\n",
    "           # nbArticleLike / nbArticle * 100,\n",
    "            nbArticleLikeAndShare / nbArticleLike * 100,\n",
    "            nbArticleLikeAndComment / nbArticleLike * 100,\n",
    "            nbArticleLikeAndShareAndComment / nbArticleLikeAndShare * 100\n",
    "]\n",
    "labels = [\n",
    "            #'Like',\n",
    "            'Like & Share',\n",
    "            'Like & Comment',\n",
    "            'Like & Share & Comment'\n",
    "        ]"
   ]
  },
  {
   "cell_type": "code",
   "execution_count": 14,
   "metadata": {},
   "outputs": [
    {
     "data": {
      "image/png": "[encoded data removed]",
      "text/plain": [
       "<Figure size 432x288 with 1 Axes>"
      ]
     },
     "metadata": {},
     "output_type": "display_data"
    }
   ],
   "source": [
    "pctLike = pd.Series([nbArticleLike / nbArticle * 100], index = ['Like'])\n",
    "\n",
    "title_article_likes = 'Pourcentage des articles likés'\n",
    "datas_article_likes = [nbArticleLike / nbArticle * 100, 100 - (nbArticleLike / nbArticle * 100)]\n",
    "labels_article_likes = ['Articles likés', 'Articles non likés']\n",
    "explode_article_likes = [0.1,0]\n",
    "\n",
    "createPieChart(title_article_likes, datas_article_likes, labels_article_likes, explode_article_likes)"
   ]
  },
  {
   "cell_type": "code",
   "execution_count": null,
   "metadata": {},
   "outputs": [],
   "source": [
    "title = 'Pourcentage des articles selon les engagements'\n",
    "\n",
    "datas = [\n",
    "        nbArticleLikeAndShare / nbArticleLike * 100,\n",
    "        nbArticleLikeAndComment / nbArticleLike * 100,\n",
    "        nbArticleLikeAndShareAndComment / nbArticleLikeAndShare * 100\n",
    "]\n",
    "\n",
    "labels = [\n",
    "            #'Like',\n",
    "            'Like & Share',\n",
    "            'Like & Comment',\n",
    "            'Like & Share & Comment'\n",
    "]\n",
    "\n",
    "colors = ['#fe4a49','#2ab7ca','#fed766']\n",
    "\n",
    "createBarHChart(title, datas, labels, colors)"
   ]
  },
  {
   "cell_type": "code",
   "execution_count": null,
   "metadata": {},
   "outputs": [],
   "source": [
    "df.groupby('source_name').count()['title'].plot.bar()"
   ]
  },
  {
   "cell_type": "code",
   "execution_count": null,
   "metadata": {},
   "outputs": [],
   "source": [
    "# Crée un dataframe contenant les articles signés\n",
    "\n",
    "dfWithoutNaNAuthor = df[df['author'].notnull()]\n",
    "\n",
    "dfWithoutNaNAuthor = dfWithoutNaNAuthor[dfWithoutNaNAuthor.apply(lambda x: x.source_name not in x.author, axis=1)]\n",
    "dfWithoutNaNAuthor = dfWithoutNaNAuthor[dfWithoutNaNAuthor.apply(lambda x: x.author not in x.source_name, axis=1)]\n",
    "\n",
    "keywordBanned = ('The', 'http', 'BBC', 'ABC', 'CBS', 'WSJ Staff')\n",
    "\n",
    "dfWithoutNaNAuthor = dfWithoutNaNAuthor[~dfWithoutNaNAuthor.author.str.startswith(keywordBanned)]\n",
    "\n",
    "count = dfWithoutNaNAuthor['author'].str.split().str.len()\n",
    "dfWithAuthor = dfWithoutNaNAuthor[~(count==1)]\n",
    "\n",
    "# nbTotalArticle = len(df)\n",
    "# nbTotalArticleSigne = len(dfWithAuthor)\n",
    "\n",
    "# print ('nbTotalArticle = ' + str(nbTotalArticle))\n",
    "# print ('nbTotalArticleSigne = ' + str(nbTotalArticleSigne))\n",
    "# print ('% article signé = ' + str(round(nbTotalArticleSigne / nbTotalArticle * 100,2)))\n",
    "\n",
    "# pctArticleSigne = pd.Series([nbTotalArticleSigne / nbTotalArticle * 100], index = ['Article signé'])\n",
    "# pctArticleSigne.plot.bar()\n",
    "\n",
    "# for x in dfWithAuthor.author:\n",
    "#     print(x)"
   ]
  },
  {
   "cell_type": "code",
   "execution_count": null,
   "metadata": {},
   "outputs": [],
   "source": [
    "dfWithoutAuthorSign = df[~df.index.isin(dfWithAuthor.index)]\n",
    "\n",
    "# dfWithoutAuthorSign = dfWithoutAuthorSign.fillna(0)\n",
    "# dfWithAuthor = dfWithAuthor.fillna(0)\n",
    "\n",
    "nbTotalArticle = len(df)\n",
    "nbTotalArticleSigne = len(dfWithAuthor)\n",
    "nbTotalArticleNonSigne = len(dfWithoutAuthorSign)\n",
    "\n",
    "pctArticleSigne = round(nbTotalArticleSigne / nbTotalArticle * 100,2)\n",
    "pctArticleNonSigne = round(nbTotalArticleNonSigne / nbTotalArticle * 100,2)\n",
    "\n",
    "dfWithAuthor['nb_engagement'] = dfWithAuthor['engagement_reaction_count'] \\\n",
    "                                + dfWithAuthor['engagement_comment_count'] \\\n",
    "                                + dfWithAuthor['engagement_share_count'] \\\n",
    "                                + dfWithAuthor['engagement_comment_plugin_count']\n",
    "\n",
    "dfWithoutAuthorSign['nb_engagement'] = dfWithoutAuthorSign['engagement_reaction_count'] \\\n",
    "                                    + dfWithoutAuthorSign['engagement_comment_count'] \\\n",
    "                                    + dfWithoutAuthorSign['engagement_share_count'] \\\n",
    "                                    + dfWithoutAuthorSign['engagement_comment_plugin_count']\n",
    "\n",
    "nbEngagementSigne = dfWithAuthor.nb_engagement.sum()\n",
    "nbEngagementNonSigne = dfWithoutAuthorSign.nb_engagement.sum()\n",
    "\n",
    "nbTotalEngagementArticle = df['engagement_reaction_count'].sum()+df['engagement_comment_count'].sum()+df['engagement_share_count'].sum()+df['engagement_comment_plugin_count'].sum()\n",
    "\n",
    "title = 'Pourcentage des articles signés'\n",
    "datas_articles = [pctArticleSigne, pctArticleNonSigne]\n",
    "datas_labels = ['Articles signés', 'Articles non signés']\n",
    "explode = [0.1,0]\n",
    "\n",
    "createPieChart(title, datas_articles, datas_labels, explode)\n",
    "\n",
    "pctEngagementArticleSigne = round(nbEngagementSigne / nbTotalEngagementArticle * 100,2)\n",
    "pctEngagementArticleNonSigne = round(nbEngagementNonSigne / nbTotalEngagementArticle * 100,2)\n",
    "\n",
    "title = 'Pourcentage des actions'\n",
    "datas_reaction = [pctEngagementArticleSigne, pctEngagementArticleNonSigne]\n",
    "createPieChart(title, datas_reaction, datas_labels, explode)\n",
    "\n"
   ]
  },
  {
   "cell_type": "markdown",
   "metadata": {},
   "source": [
    "**Test `retest`**"
   ]
  }
 ],
 "metadata": {
  "kernelspec": {
   "display_name": "Python 3",
   "language": "python",
   "name": "python3"
  },
  "language_info": {
   "codemirror_mode": {
    "name": "ipython",
    "version": 3
   },
   "file_extension": ".py",
   "mimetype": "text/x-python",
   "name": "python",
   "nbconvert_exporter": "python",
   "pygments_lexer": "ipython3",
   "version": "3.7.6"
  }
 },
 "nbformat": 4,
 "nbformat_minor": 4
}
