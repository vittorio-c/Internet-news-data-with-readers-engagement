{
 "metadata": {
  "language_info": {
   "codemirror_mode": {
    "name": "ipython",
    "version": 3
   },
   "file_extension": ".py",
   "mimetype": "text/x-python",
   "name": "python",
   "nbconvert_exporter": "python",
   "pygments_lexer": "ipython3",
   "version": "3.8.3-final"
  },
  "orig_nbformat": 2,
  "kernelspec": {
   "name": "python3",
   "display_name": "Python 3"
  }
 },
 "nbformat": 4,
 "nbformat_minor": 2,
 "cells": [
  {
   "source": [
    "# Analyse des POST sur Facebook"
   ],
   "cell_type": "markdown",
   "metadata": {}
  },
  {
   "source": [
    "## Imports"
   ],
   "cell_type": "markdown",
   "metadata": {}
  },
  {
   "cell_type": "code",
   "execution_count": 1,
   "metadata": {},
   "outputs": [],
   "source": [
    "import pandas as pd\n",
    "import numpy as np"
   ]
  },
  {
   "source": [
    "## Lecture du DataSet"
   ],
   "cell_type": "markdown",
   "metadata": {}
  },
  {
   "cell_type": "code",
   "execution_count": 2,
   "metadata": {},
   "outputs": [
    {
     "output_type": "execute_result",
     "data": {
      "text/plain": [
       "   index source_id source_name             author  \\\n",
       "0      0   reuters     Reuters  Reuters Editorial   \n",
       "\n",
       "                                               title  \\\n",
       "0  NTSB says Autopilot engaged in 2018 California...   \n",
       "\n",
       "                                         description  \\\n",
       "0  The National Transportation Safety Board said ...   \n",
       "\n",
       "                                                 url  \\\n",
       "0  https://www.reuters.com/article/us-tesla-crash...   \n",
       "\n",
       "                                        url_to_image          published_at  \\\n",
       "0  https://s4.reutersmedia.net/resources/r/?m=02&...  2019-09-03T16:22:20Z   \n",
       "\n",
       "                                             content  top_article  \\\n",
       "0  WASHINGTON (Reuters) - The National Transporta...          0.0   \n",
       "\n",
       "   engagement_reaction_count  engagement_comment_count  \\\n",
       "0                        0.0                       0.0   \n",
       "\n",
       "   engagement_share_count  engagement_comment_plugin_count  \n",
       "0                  2528.0                              0.0  "
      ],
      "text/html": "<div>\n<style scoped>\n    .dataframe tbody tr th:only-of-type {\n        vertical-align: middle;\n    }\n\n    .dataframe tbody tr th {\n        vertical-align: top;\n    }\n\n    .dataframe thead th {\n        text-align: right;\n    }\n</style>\n<table border=\"1\" class=\"dataframe\">\n  <thead>\n    <tr style=\"text-align: right;\">\n      <th></th>\n      <th>index</th>\n      <th>source_id</th>\n      <th>source_name</th>\n      <th>author</th>\n      <th>title</th>\n      <th>description</th>\n      <th>url</th>\n      <th>url_to_image</th>\n      <th>published_at</th>\n      <th>content</th>\n      <th>top_article</th>\n      <th>engagement_reaction_count</th>\n      <th>engagement_comment_count</th>\n      <th>engagement_share_count</th>\n      <th>engagement_comment_plugin_count</th>\n    </tr>\n  </thead>\n  <tbody>\n    <tr>\n      <th>0</th>\n      <td>0</td>\n      <td>reuters</td>\n      <td>Reuters</td>\n      <td>Reuters Editorial</td>\n      <td>NTSB says Autopilot engaged in 2018 California...</td>\n      <td>The National Transportation Safety Board said ...</td>\n      <td>https://www.reuters.com/article/us-tesla-crash...</td>\n      <td>https://s4.reutersmedia.net/resources/r/?m=02&amp;...</td>\n      <td>2019-09-03T16:22:20Z</td>\n      <td>WASHINGTON (Reuters) - The National Transporta...</td>\n      <td>0.0</td>\n      <td>0.0</td>\n      <td>0.0</td>\n      <td>2528.0</td>\n      <td>0.0</td>\n    </tr>\n  </tbody>\n</table>\n</div>"
     },
     "metadata": {},
     "execution_count": 2
    }
   ],
   "source": [
    "dataframe = pd.read_csv(\"articles_data.csv\")\n",
    "dataframe.head(1)"
   ]
  },
  {
   "source": [
    "## Manipulation du DataSet pour travailler sur le `published_at`"
   ],
   "cell_type": "markdown",
   "metadata": {}
  },
  {
   "cell_type": "code",
   "execution_count": 3,
   "metadata": {},
   "outputs": [],
   "source": [
    "dataframe_converted_datetime = dataframe\n",
    "\n",
    "# Conversion de `published_at` en DateTime\n",
    "dataframe_converted_datetime.published_at = pd.to_datetime(dataframe.published_at)\n",
    "#dataframe_converted_datetime.published_at.dtypes # Afficher le type de `published_at`\n",
    "\n",
    "# Ligne 750 corrompue\n",
    "dataframe_converted_datetime = dataframe_converted_datetime.drop(index=750)\n",
    "# Réindexation\n",
    "dataframe_converted_datetime.index = [i for i in range(0, len(dataframe_converted_datetime))] \n",
    "\n",
    "# Pour retrouver les lignes dont le `published_at` == NaN\n",
    "#dataframe_converted_datetime[dataframe_converted_datetime.published_at.isnull()]\n",
    "\n",
    "# Ajout d'une nouvelle colonne pour avoir les différentes tranches horaires\n",
    "serie_temp = pd.Series(\n",
    "    [ int(df_datetime.hour) for df_datetime in dataframe_converted_datetime.published_at ],  \n",
    "    name='tranche_horaire'\n",
    ")\n",
    "\n",
    "dataframe_converted_datetime = pd.concat(\n",
    "    [dataframe_converted_datetime, serie_temp],\n",
    "    axis=1,\n",
    "    ignore_index=False\n",
    ")"
   ]
  },
  {
   "source": [
    "## Nombre de POST par tranche horaire"
   ],
   "cell_type": "markdown",
   "metadata": {}
  },
  {
   "cell_type": "code",
   "execution_count": 4,
   "metadata": {
    "tags": []
   },
   "outputs": [
    {
     "output_type": "execute_result",
     "data": {
      "text/plain": [
       "    tranche_horaire  counts\n",
       "16               16    1460\n",
       "15               15    1432\n",
       "14               14    1237\n",
       "17               17    1003\n",
       "13               13     918\n",
       "12               12     837\n",
       "11               11     716\n",
       "10               10     533\n",
       "9                 9     526\n",
       "18               18     324\n",
       "8                 8     248\n",
       "5                 5     194\n",
       "0                 0     173\n",
       "7                 7     164\n",
       "4                 4     137\n",
       "6                 6     125\n",
       "2                 2     116\n",
       "1                 1     113\n",
       "19               19     105\n",
       "3                 3      75"
      ],
      "text/html": "<div>\n<style scoped>\n    .dataframe tbody tr th:only-of-type {\n        vertical-align: middle;\n    }\n\n    .dataframe tbody tr th {\n        vertical-align: top;\n    }\n\n    .dataframe thead th {\n        text-align: right;\n    }\n</style>\n<table border=\"1\" class=\"dataframe\">\n  <thead>\n    <tr style=\"text-align: right;\">\n      <th></th>\n      <th>tranche_horaire</th>\n      <th>counts</th>\n    </tr>\n  </thead>\n  <tbody>\n    <tr>\n      <th>16</th>\n      <td>16</td>\n      <td>1460</td>\n    </tr>\n    <tr>\n      <th>15</th>\n      <td>15</td>\n      <td>1432</td>\n    </tr>\n    <tr>\n      <th>14</th>\n      <td>14</td>\n      <td>1237</td>\n    </tr>\n    <tr>\n      <th>17</th>\n      <td>17</td>\n      <td>1003</td>\n    </tr>\n    <tr>\n      <th>13</th>\n      <td>13</td>\n      <td>918</td>\n    </tr>\n    <tr>\n      <th>12</th>\n      <td>12</td>\n      <td>837</td>\n    </tr>\n    <tr>\n      <th>11</th>\n      <td>11</td>\n      <td>716</td>\n    </tr>\n    <tr>\n      <th>10</th>\n      <td>10</td>\n      <td>533</td>\n    </tr>\n    <tr>\n      <th>9</th>\n      <td>9</td>\n      <td>526</td>\n    </tr>\n    <tr>\n      <th>18</th>\n      <td>18</td>\n      <td>324</td>\n    </tr>\n    <tr>\n      <th>8</th>\n      <td>8</td>\n      <td>248</td>\n    </tr>\n    <tr>\n      <th>5</th>\n      <td>5</td>\n      <td>194</td>\n    </tr>\n    <tr>\n      <th>0</th>\n      <td>0</td>\n      <td>173</td>\n    </tr>\n    <tr>\n      <th>7</th>\n      <td>7</td>\n      <td>164</td>\n    </tr>\n    <tr>\n      <th>4</th>\n      <td>4</td>\n      <td>137</td>\n    </tr>\n    <tr>\n      <th>6</th>\n      <td>6</td>\n      <td>125</td>\n    </tr>\n    <tr>\n      <th>2</th>\n      <td>2</td>\n      <td>116</td>\n    </tr>\n    <tr>\n      <th>1</th>\n      <td>1</td>\n      <td>113</td>\n    </tr>\n    <tr>\n      <th>19</th>\n      <td>19</td>\n      <td>105</td>\n    </tr>\n    <tr>\n      <th>3</th>\n      <td>3</td>\n      <td>75</td>\n    </tr>\n  </tbody>\n</table>\n</div>"
     },
     "metadata": {},
     "execution_count": 4
    }
   ],
   "source": [
    "# Nombre d'article posté par tranche horaire\n",
    "nb_post_by_hours = dataframe_converted_datetime.groupby(['tranche_horaire']) \\\n",
    "                            .size() \\\n",
    "                            .reset_index(name='counts') \\\n",
    "                            .sort_values('counts', ascending=False)\n",
    "nb_post_by_hours"
   ]
  },
  {
   "source": [
    "## Nombre de REACTION par tranche horaire"
   ],
   "cell_type": "markdown",
   "metadata": {}
  },
  {
   "cell_type": "code",
   "execution_count": 5,
   "metadata": {},
   "outputs": [
    {
     "output_type": "execute_result",
     "data": {
      "text/plain": [
       "    tranche_horaire  sum_like\n",
       "10               10  517434.0\n",
       "15               15  443402.0\n",
       "14               14  406498.0\n",
       "13               13  362689.0\n",
       "12               12  284878.0"
      ],
      "text/html": "<div>\n<style scoped>\n    .dataframe tbody tr th:only-of-type {\n        vertical-align: middle;\n    }\n\n    .dataframe tbody tr th {\n        vertical-align: top;\n    }\n\n    .dataframe thead th {\n        text-align: right;\n    }\n</style>\n<table border=\"1\" class=\"dataframe\">\n  <thead>\n    <tr style=\"text-align: right;\">\n      <th></th>\n      <th>tranche_horaire</th>\n      <th>sum_like</th>\n    </tr>\n  </thead>\n  <tbody>\n    <tr>\n      <th>10</th>\n      <td>10</td>\n      <td>517434.0</td>\n    </tr>\n    <tr>\n      <th>15</th>\n      <td>15</td>\n      <td>443402.0</td>\n    </tr>\n    <tr>\n      <th>14</th>\n      <td>14</td>\n      <td>406498.0</td>\n    </tr>\n    <tr>\n      <th>13</th>\n      <td>13</td>\n      <td>362689.0</td>\n    </tr>\n    <tr>\n      <th>12</th>\n      <td>12</td>\n      <td>284878.0</td>\n    </tr>\n  </tbody>\n</table>\n</div>"
     },
     "metadata": {},
     "execution_count": 5
    }
   ],
   "source": [
    "# Nombre de 'REACTION' par tranche horaire\n",
    "nb_reaction_by_hours = dataframe_converted_datetime.groupby(['tranche_horaire']) \\\n",
    "                            .engagement_reaction_count \\\n",
    "                            .sum() \\\n",
    "                            .reset_index(name='sum_like') \\\n",
    "                            .sort_values('sum_like', ascending=False)\n",
    "nb_reaction_by_hours"
   ]
  },
  {
   "source": [
    "## Nombre de PARTAGE par tranche horaire"
   ],
   "cell_type": "markdown",
   "metadata": {}
  },
  {
   "cell_type": "code",
   "execution_count": 6,
   "metadata": {},
   "outputs": [
    {
     "output_type": "execute_result",
     "data": {
      "text/plain": [
       "    tranche_horaire  sum_share\n",
       "17               17   312623.0\n",
       "15               15   267938.0\n",
       "14               14   241617.0\n",
       "16               16   202078.0\n",
       "13               13   190777.0\n",
       "10               10   114434.0\n",
       "12               12   113571.0\n",
       "11               11   109263.0\n",
       "18               18   104206.0\n",
       "9                 9    73980.0\n",
       "0                 0    62358.0\n",
       "5                 5    56117.0\n",
       "1                 1    32637.0\n",
       "7                 7    28522.0\n",
       "19               19    24367.0\n",
       "4                 4    24018.0\n",
       "8                 8    22247.0\n",
       "2                 2    17036.0\n",
       "3                 3    13771.0\n",
       "6                 6    13402.0"
      ],
      "text/html": "<div>\n<style scoped>\n    .dataframe tbody tr th:only-of-type {\n        vertical-align: middle;\n    }\n\n    .dataframe tbody tr th {\n        vertical-align: top;\n    }\n\n    .dataframe thead th {\n        text-align: right;\n    }\n</style>\n<table border=\"1\" class=\"dataframe\">\n  <thead>\n    <tr style=\"text-align: right;\">\n      <th></th>\n      <th>tranche_horaire</th>\n      <th>sum_share</th>\n    </tr>\n  </thead>\n  <tbody>\n    <tr>\n      <th>17</th>\n      <td>17</td>\n      <td>312623.0</td>\n    </tr>\n    <tr>\n      <th>15</th>\n      <td>15</td>\n      <td>267938.0</td>\n    </tr>\n    <tr>\n      <th>14</th>\n      <td>14</td>\n      <td>241617.0</td>\n    </tr>\n    <tr>\n      <th>16</th>\n      <td>16</td>\n      <td>202078.0</td>\n    </tr>\n    <tr>\n      <th>13</th>\n      <td>13</td>\n      <td>190777.0</td>\n    </tr>\n    <tr>\n      <th>10</th>\n      <td>10</td>\n      <td>114434.0</td>\n    </tr>\n    <tr>\n      <th>12</th>\n      <td>12</td>\n      <td>113571.0</td>\n    </tr>\n    <tr>\n      <th>11</th>\n      <td>11</td>\n      <td>109263.0</td>\n    </tr>\n    <tr>\n      <th>18</th>\n      <td>18</td>\n      <td>104206.0</td>\n    </tr>\n    <tr>\n      <th>9</th>\n      <td>9</td>\n      <td>73980.0</td>\n    </tr>\n    <tr>\n      <th>0</th>\n      <td>0</td>\n      <td>62358.0</td>\n    </tr>\n    <tr>\n      <th>5</th>\n      <td>5</td>\n      <td>56117.0</td>\n    </tr>\n    <tr>\n      <th>1</th>\n      <td>1</td>\n      <td>32637.0</td>\n    </tr>\n    <tr>\n      <th>7</th>\n      <td>7</td>\n      <td>28522.0</td>\n    </tr>\n    <tr>\n      <th>19</th>\n      <td>19</td>\n      <td>24367.0</td>\n    </tr>\n    <tr>\n      <th>4</th>\n      <td>4</td>\n      <td>24018.0</td>\n    </tr>\n    <tr>\n      <th>8</th>\n      <td>8</td>\n      <td>22247.0</td>\n    </tr>\n    <tr>\n      <th>2</th>\n      <td>2</td>\n      <td>17036.0</td>\n    </tr>\n    <tr>\n      <th>3</th>\n      <td>3</td>\n      <td>13771.0</td>\n    </tr>\n    <tr>\n      <th>6</th>\n      <td>6</td>\n      <td>13402.0</td>\n    </tr>\n  </tbody>\n</table>\n</div>"
     },
     "metadata": {},
     "execution_count": 6
    }
   ],
   "source": [
    "# Nombre de 'PARTAGE' par tranche horaire\n",
    "nb_share_by_hours = dataframe_converted_datetime.groupby(['tranche_horaire']) \\\n",
    "                            .engagement_share_count \\\n",
    "                            .sum() \\\n",
    "                            .reset_index(name='sum_share') \\\n",
    "                            .sort_values('sum_share', ascending=False)\n",
    "nb_share_by_hours"
   ]
  },
  {
   "source": [
    "## Nombre de COMMENTAIRE par tranche horaire"
   ],
   "cell_type": "markdown",
   "metadata": {}
  },
  {
   "cell_type": "code",
   "execution_count": 7,
   "metadata": {},
   "outputs": [
    {
     "output_type": "execute_result",
     "data": {
      "text/plain": [
       "    tranche_horaire  sum_comment\n",
       "14               14     159499.0\n",
       "15               15     152732.0\n",
       "13               13     120280.0\n",
       "10               10     118095.0\n",
       "16               16     111010.0\n",
       "11               11     103449.0\n",
       "12               12      94131.0\n",
       "5                 5      67975.0\n",
       "17               17      66503.0\n",
       "9                 9      60188.0\n",
       "0                 0      49803.0\n",
       "1                 1      32698.0\n",
       "8                 8      25157.0\n",
       "7                 7      24778.0\n",
       "3                 3      23890.0\n",
       "4                 4      23344.0\n",
       "2                 2      22388.0\n",
       "6                 6      11908.0\n",
       "18               18      11659.0\n",
       "19               19        409.0"
      ],
      "text/html": "<div>\n<style scoped>\n    .dataframe tbody tr th:only-of-type {\n        vertical-align: middle;\n    }\n\n    .dataframe tbody tr th {\n        vertical-align: top;\n    }\n\n    .dataframe thead th {\n        text-align: right;\n    }\n</style>\n<table border=\"1\" class=\"dataframe\">\n  <thead>\n    <tr style=\"text-align: right;\">\n      <th></th>\n      <th>tranche_horaire</th>\n      <th>sum_comment</th>\n    </tr>\n  </thead>\n  <tbody>\n    <tr>\n      <th>14</th>\n      <td>14</td>\n      <td>159499.0</td>\n    </tr>\n    <tr>\n      <th>15</th>\n      <td>15</td>\n      <td>152732.0</td>\n    </tr>\n    <tr>\n      <th>13</th>\n      <td>13</td>\n      <td>120280.0</td>\n    </tr>\n    <tr>\n      <th>10</th>\n      <td>10</td>\n      <td>118095.0</td>\n    </tr>\n    <tr>\n      <th>16</th>\n      <td>16</td>\n      <td>111010.0</td>\n    </tr>\n    <tr>\n      <th>11</th>\n      <td>11</td>\n      <td>103449.0</td>\n    </tr>\n    <tr>\n      <th>12</th>\n      <td>12</td>\n      <td>94131.0</td>\n    </tr>\n    <tr>\n      <th>5</th>\n      <td>5</td>\n      <td>67975.0</td>\n    </tr>\n    <tr>\n      <th>17</th>\n      <td>17</td>\n      <td>66503.0</td>\n    </tr>\n    <tr>\n      <th>9</th>\n      <td>9</td>\n      <td>60188.0</td>\n    </tr>\n    <tr>\n      <th>0</th>\n      <td>0</td>\n      <td>49803.0</td>\n    </tr>\n    <tr>\n      <th>1</th>\n      <td>1</td>\n      <td>32698.0</td>\n    </tr>\n    <tr>\n      <th>8</th>\n      <td>8</td>\n      <td>25157.0</td>\n    </tr>\n    <tr>\n      <th>7</th>\n      <td>7</td>\n      <td>24778.0</td>\n    </tr>\n    <tr>\n      <th>3</th>\n      <td>3</td>\n      <td>23890.0</td>\n    </tr>\n    <tr>\n      <th>4</th>\n      <td>4</td>\n      <td>23344.0</td>\n    </tr>\n    <tr>\n      <th>2</th>\n      <td>2</td>\n      <td>22388.0</td>\n    </tr>\n    <tr>\n      <th>6</th>\n      <td>6</td>\n      <td>11908.0</td>\n    </tr>\n    <tr>\n      <th>18</th>\n      <td>18</td>\n      <td>11659.0</td>\n    </tr>\n    <tr>\n      <th>19</th>\n      <td>19</td>\n      <td>409.0</td>\n    </tr>\n  </tbody>\n</table>\n</div>"
     },
     "metadata": {},
     "execution_count": 7
    }
   ],
   "source": [
    "# Nombre de 'COMMENTAIRE' par tranche horaire\n",
    "nb_comment_by_hours = dataframe_converted_datetime.groupby(['tranche_horaire']) \\\n",
    "                            .engagement_comment_count \\\n",
    "                            .sum() \\\n",
    "                            .reset_index(name='sum_comment') \\\n",
    "                            .sort_values('sum_comment', ascending=False)\n",
    "nb_comment_by_hours"
   ]
  },
  {
   "source": [
    "## Stats MATIN / MIDI / APRES-MIDI / SOIR / NUIT"
   ],
   "cell_type": "markdown",
   "metadata": {}
  },
  {
   "source": [
    "_Horaire_ :\n",
    "* **Matin** :       *8h à 11h*\n",
    "* **Midi** :        *11h à 14h*\n",
    "* **Après-midi** :  *14h à 19h*\n",
    "* **Soir** :        *19h à 00h*\n",
    "* **Nuit** :        *00h à 8h*"
   ],
   "cell_type": "markdown",
   "metadata": {}
  },
  {
   "source": [
    "## Fonction pour filtrer les différentes périodes de la journée"
   ],
   "cell_type": "markdown",
   "metadata": {}
  },
  {
   "cell_type": "code",
   "execution_count": 8,
   "metadata": {},
   "outputs": [],
   "source": [
    "def periodOfTheDay(hour) :\n",
    "    if (hour >= 0 and hour < 8) :\n",
    "        return 'night'\n",
    "    elif (hour < 11) :\n",
    "        return 'morning'\n",
    "    elif (hour < 14) :\n",
    "        return 'midday'\n",
    "    elif (hour < 19) :\n",
    "        return 'afternoon'\n",
    "    else :\n",
    "        return 'evening'\n"
   ]
  },
  {
   "source": [
    "## Regroupement REACTION par période"
   ],
   "cell_type": "markdown",
   "metadata": {}
  },
  {
   "cell_type": "code",
   "execution_count": 9,
   "metadata": {},
   "outputs": [
    {
     "output_type": "execute_result",
     "data": {
      "text/plain": [
       "           reactions\n",
       "period              \n",
       "afternoon  1379412.0\n",
       "midday      896421.0\n",
       "night       872343.0\n",
       "morning     786114.0\n",
       "evening       1328.0"
      ],
      "text/html": "<div>\n<style scoped>\n    .dataframe tbody tr th:only-of-type {\n        vertical-align: middle;\n    }\n\n    .dataframe tbody tr th {\n        vertical-align: top;\n    }\n\n    .dataframe thead th {\n        text-align: right;\n    }\n</style>\n<table border=\"1\" class=\"dataframe\">\n  <thead>\n    <tr style=\"text-align: right;\">\n      <th></th>\n      <th>reactions</th>\n    </tr>\n    <tr>\n      <th>period</th>\n      <th></th>\n    </tr>\n  </thead>\n  <tbody>\n    <tr>\n      <th>afternoon</th>\n      <td>1379412.0</td>\n    </tr>\n    <tr>\n      <th>midday</th>\n      <td>896421.0</td>\n    </tr>\n    <tr>\n      <th>night</th>\n      <td>872343.0</td>\n    </tr>\n    <tr>\n      <th>morning</th>\n      <td>786114.0</td>\n    </tr>\n    <tr>\n      <th>evening</th>\n      <td>1328.0</td>\n    </tr>\n  </tbody>\n</table>\n</div>"
     },
     "metadata": {},
     "execution_count": 9
    }
   ],
   "source": [
    "nb_reaction_by_period = nb_reaction_by_hours\n",
    "nb_reaction_by_period.columns = ['period', 'reactions']\n",
    "nb_reaction_by_period.period = nb_reaction_by_period \\\n",
    "                                .period \\\n",
    "                                .apply(periodOfTheDay) \\\n",
    "\n",
    "nb_reaction_by_period = nb_reaction_by_period.groupby(['period']) \\\n",
    "                        .sum() \\\n",
    "                        .sort_values('reactions', ascending=False)\n",
    "\n",
    "nb_reaction_by_period"
   ]
  },
  {
   "source": [
    "## Regroupement PARTAGE par période"
   ],
   "cell_type": "markdown",
   "metadata": {}
  },
  {
   "cell_type": "code",
   "execution_count": 10,
   "metadata": {},
   "outputs": [
    {
     "output_type": "execute_result",
     "data": {
      "text/plain": [
       "              shares\n",
       "period              \n",
       "afternoon  1128462.0\n",
       "midday      413611.0\n",
       "night       247861.0\n",
       "morning     210661.0\n",
       "evening      24367.0"
      ],
      "text/html": "<div>\n<style scoped>\n    .dataframe tbody tr th:only-of-type {\n        vertical-align: middle;\n    }\n\n    .dataframe tbody tr th {\n        vertical-align: top;\n    }\n\n    .dataframe thead th {\n        text-align: right;\n    }\n</style>\n<table border=\"1\" class=\"dataframe\">\n  <thead>\n    <tr style=\"text-align: right;\">\n      <th></th>\n      <th>shares</th>\n    </tr>\n    <tr>\n      <th>period</th>\n      <th></th>\n    </tr>\n  </thead>\n  <tbody>\n    <tr>\n      <th>afternoon</th>\n      <td>1128462.0</td>\n    </tr>\n    <tr>\n      <th>midday</th>\n      <td>413611.0</td>\n    </tr>\n    <tr>\n      <th>night</th>\n      <td>247861.0</td>\n    </tr>\n    <tr>\n      <th>morning</th>\n      <td>210661.0</td>\n    </tr>\n    <tr>\n      <th>evening</th>\n      <td>24367.0</td>\n    </tr>\n  </tbody>\n</table>\n</div>"
     },
     "metadata": {},
     "execution_count": 10
    }
   ],
   "source": [
    "nb_share_by_period = nb_share_by_hours\n",
    "nb_share_by_period.columns = ['period', 'shares']\n",
    "nb_share_by_period.period = nb_share_by_period \\\n",
    "                                .period \\\n",
    "                                .apply(periodOfTheDay) \\\n",
    "\n",
    "nb_share_by_period = nb_share_by_period.groupby(['period']) \\\n",
    "                        .sum() \\\n",
    "                        .sort_values('shares', ascending=False)\n",
    "\n",
    "nb_share_by_period"
   ]
  },
  {
   "source": [
    "## Regroupement COMMENTAIRE par période"
   ],
   "cell_type": "markdown",
   "metadata": {}
  },
  {
   "cell_type": "code",
   "execution_count": 11,
   "metadata": {},
   "outputs": [
    {
     "output_type": "execute_result",
     "data": {
      "text/plain": [
       "           comments\n",
       "period             \n",
       "afternoon  501403.0\n",
       "midday     317860.0\n",
       "night      256784.0\n",
       "morning    203440.0\n",
       "evening       409.0"
      ],
      "text/html": "<div>\n<style scoped>\n    .dataframe tbody tr th:only-of-type {\n        vertical-align: middle;\n    }\n\n    .dataframe tbody tr th {\n        vertical-align: top;\n    }\n\n    .dataframe thead th {\n        text-align: right;\n    }\n</style>\n<table border=\"1\" class=\"dataframe\">\n  <thead>\n    <tr style=\"text-align: right;\">\n      <th></th>\n      <th>comments</th>\n    </tr>\n    <tr>\n      <th>period</th>\n      <th></th>\n    </tr>\n  </thead>\n  <tbody>\n    <tr>\n      <th>afternoon</th>\n      <td>501403.0</td>\n    </tr>\n    <tr>\n      <th>midday</th>\n      <td>317860.0</td>\n    </tr>\n    <tr>\n      <th>night</th>\n      <td>256784.0</td>\n    </tr>\n    <tr>\n      <th>morning</th>\n      <td>203440.0</td>\n    </tr>\n    <tr>\n      <th>evening</th>\n      <td>409.0</td>\n    </tr>\n  </tbody>\n</table>\n</div>"
     },
     "metadata": {},
     "execution_count": 11
    }
   ],
   "source": [
    "nb_comment_by_period = nb_comment_by_hours\n",
    "nb_comment_by_period.columns = ['period', 'comments']\n",
    "nb_comment_by_period.period = nb_comment_by_period \\\n",
    "                                .period \\\n",
    "                                .apply(periodOfTheDay) \\\n",
    "\n",
    "nb_comment_by_period = nb_comment_by_period.groupby(['period']) \\\n",
    "                        .sum() \\\n",
    "                        .sort_values('comments', ascending=False)\n",
    "\n",
    "nb_comment_by_period"
   ]
  },
  {
   "cell_type": "code",
   "execution_count": null,
   "metadata": {},
   "outputs": [],
   "source": []
  }
 ]
}