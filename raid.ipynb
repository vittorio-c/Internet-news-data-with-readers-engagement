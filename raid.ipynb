{
 "cells": [
  {
   "cell_type": "code",
   "execution_count": 139,
   "metadata": {},
   "outputs": [],
   "source": [
    "import pandas as pd\n",
    "import matplotlib.pyplot as plt\n",
    "import numpy as np"
   ]
  },
  {
   "cell_type": "code",
   "execution_count": 140,
   "metadata": {},
   "outputs": [],
   "source": [
    "df = pd.read_csv(\"articles_data.csv\", index_col='index')"
   ]
  },
  {
   "cell_type": "code",
   "execution_count": 141,
   "metadata": {},
   "outputs": [
    {
     "output_type": "execute_result",
     "data": {
      "text/plain": [
       "                source_id         source_name                  author  \\\n",
       "index                                                                   \n",
       "0                 reuters             Reuters       Reuters Editorial   \n",
       "1         the-irish-times     The Irish Times      Eoin Burke-Kennedy   \n",
       "2         the-irish-times     The Irish Times       Deirdre McQuillan   \n",
       "3      al-jazeera-english  Al Jazeera English              Al Jazeera   \n",
       "4                bbc-news            BBC News                BBC News   \n",
       "...                   ...                 ...                     ...   \n",
       "10432            abc-news            ABC News    The Associated Press   \n",
       "10433             reuters             Reuters       Sumeet Chatterjee   \n",
       "10434                 cnn                 CNN  Lauren M. Johnson, CNN   \n",
       "10435            cbs-news            CBS News                CBS News   \n",
       "10436            cbs-news            CBS News                CBS News   \n",
       "\n",
       "                                                   title  \\\n",
       "index                                                      \n",
       "0      NTSB says Autopilot engaged in 2018 California...   \n",
       "1           Unemployment falls to post-crash low of 5.2%   \n",
       "2      Louise Kennedy AW2019: Long coats, sparkling t...   \n",
       "3      North Korean footballer Han joins Italian gian...   \n",
       "4      UK government lawyer says proroguing parliamen...   \n",
       "...                                                  ...   \n",
       "10432  Drop in US service sector activity raises econ...   \n",
       "10433  Banker defections pose challenge for Credit Su...   \n",
       "10434  A 5-year-old cancer survivor donates 3,000 toy...   \n",
       "10435                                 Fateful Connection   \n",
       "10436                             Love, Hate & Obsession   \n",
       "\n",
       "                                             description  \\\n",
       "index                                                      \n",
       "0      The National Transportation Safety Board said ...   \n",
       "1      Latest monthly figures reflect continued growt...   \n",
       "2      Autumn-winter collection features designer’s g...   \n",
       "3      Han is the first North Korean player in the Se...   \n",
       "4      The UK government's lawyer, David Johnston arg...   \n",
       "...                                                  ...   \n",
       "10432  Get breaking national and world news, broadcas...   \n",
       "10433  The announcement by Julius Baer this week that...   \n",
       "10434  Weston Newswanger is just a normal 5-year-old ...   \n",
       "10435  A detective is haunted by the case of two wome...   \n",
       "10436  Who wanted one-time millionaire Lanny Horwitz ...   \n",
       "\n",
       "                                                     url  \\\n",
       "index                                                      \n",
       "0      https://www.reuters.com/article/us-tesla-crash...   \n",
       "1      https://www.irishtimes.com/business/economy/un...   \n",
       "2      https://www.irishtimes.com/life-and-style/fash...   \n",
       "3      https://www.aljazeera.com/news/2019/09/north-k...   \n",
       "4      https://www.bbc.co.uk/news/av/uk-scotland-4956...   \n",
       "...                                                  ...   \n",
       "10432  https://abcnews.go.com/Business/wireStory/drop...   \n",
       "10433  https://www.reuters.com/article/us-credit-suis...   \n",
       "10434  https://www.cnn.com/2019/10/03/us/five-year-ol...   \n",
       "10435  https://www.cbsnews.com/video/fateful-connecti...   \n",
       "10436  https://www.cbsnews.com/video/love-hate-obsess...   \n",
       "\n",
       "                                            url_to_image  \\\n",
       "index                                                      \n",
       "0      https://s4.reutersmedia.net/resources/r/?m=02&...   \n",
       "1      https://www.irishtimes.com/image-creator/?id=1...   \n",
       "2      https://www.irishtimes.com/image-creator/?id=1...   \n",
       "3      https://www.aljazeera.com/mritems/Images/2019/...   \n",
       "4      https://ichef.bbci.co.uk/news/1024/branded_new...   \n",
       "...                                                  ...   \n",
       "10432  https://s.abcnews.com/images/US/WireAP_eb147c9...   \n",
       "10433  https://s3.reutersmedia.net/resources/r/?m=02&...   \n",
       "10434  https://cdn.cnn.com/cnnnext/dam/assets/1910021...   \n",
       "10435  https://cbsnews1.cbsistatic.com/hub/i/r/2019/1...   \n",
       "10436  https://cbsnews1.cbsistatic.com/hub/i/r/2017/0...   \n",
       "\n",
       "               published_at  \\\n",
       "index                         \n",
       "0      2019-09-03T16:22:20Z   \n",
       "1      2019-09-03T10:32:28Z   \n",
       "2      2019-09-03T14:40:00Z   \n",
       "3      2019-09-03T17:25:39Z   \n",
       "4      2019-09-03T14:39:21Z   \n",
       "...                     ...   \n",
       "10432  2019-10-03T16:30:16Z   \n",
       "10433  2019-10-03T15:59:52Z   \n",
       "10434  2019-10-03T11:20:06Z   \n",
       "10435  2019-10-03T16:40:03Z   \n",
       "10436  2019-10-03T16:35:13Z   \n",
       "\n",
       "                                                 content  top_article  \\\n",
       "index                                                                   \n",
       "0      WASHINGTON (Reuters) - The National Transporta...          0.0   \n",
       "1      The States jobless rate fell to 5.2 per cent l...          0.0   \n",
       "2      Louise Kennedy is showing off her autumn-winte...          1.0   \n",
       "3      Han Kwang Song, the first North Korean footbal...          0.0   \n",
       "4                                                    NaN          0.0   \n",
       "...                                                  ...          ...   \n",
       "10432  Growth in the U.S. economys vast services sect...          0.0   \n",
       "10433  ZURICH/HONG KONG (Reuters) - The announcement ...          0.0   \n",
       "10434                                                NaN          0.0   \n",
       "10435                                                NaN          0.0   \n",
       "10436                                                NaN          0.0   \n",
       "\n",
       "       engagement_reaction_count  engagement_comment_count  \\\n",
       "index                                                        \n",
       "0                            0.0                       0.0   \n",
       "1                            6.0                      10.0   \n",
       "2                            NaN                       NaN   \n",
       "3                            0.0                       0.0   \n",
       "4                            0.0                       0.0   \n",
       "...                          ...                       ...   \n",
       "10432                        0.0                       0.0   \n",
       "10433                        0.0                       0.0   \n",
       "10434                     4072.0                     179.0   \n",
       "10435                        0.0                       0.0   \n",
       "10436                        0.0                       0.0   \n",
       "\n",
       "       engagement_share_count  engagement_comment_plugin_count  \n",
       "index                                                           \n",
       "0                      2528.0                              0.0  \n",
       "1                         2.0                              0.0  \n",
       "2                         NaN                              NaN  \n",
       "3                         7.0                              0.0  \n",
       "4                         0.0                              0.0  \n",
       "...                       ...                              ...  \n",
       "10432                     0.0                              0.0  \n",
       "10433                   627.0                              0.0  \n",
       "10434                   466.0                              0.0  \n",
       "10435                     0.0                              0.0  \n",
       "10436                     0.0                              0.0  \n",
       "\n",
       "[10437 rows x 14 columns]"
      ],
      "text/html": "<div>\n<style scoped>\n    .dataframe tbody tr th:only-of-type {\n        vertical-align: middle;\n    }\n\n    .dataframe tbody tr th {\n        vertical-align: top;\n    }\n\n    .dataframe thead th {\n        text-align: right;\n    }\n</style>\n<table border=\"1\" class=\"dataframe\">\n  <thead>\n    <tr style=\"text-align: right;\">\n      <th></th>\n      <th>source_id</th>\n      <th>source_name</th>\n      <th>author</th>\n      <th>title</th>\n      <th>description</th>\n      <th>url</th>\n      <th>url_to_image</th>\n      <th>published_at</th>\n      <th>content</th>\n      <th>top_article</th>\n      <th>engagement_reaction_count</th>\n      <th>engagement_comment_count</th>\n      <th>engagement_share_count</th>\n      <th>engagement_comment_plugin_count</th>\n    </tr>\n    <tr>\n      <th>index</th>\n      <th></th>\n      <th></th>\n      <th></th>\n      <th></th>\n      <th></th>\n      <th></th>\n      <th></th>\n      <th></th>\n      <th></th>\n      <th></th>\n      <th></th>\n      <th></th>\n      <th></th>\n      <th></th>\n    </tr>\n  </thead>\n  <tbody>\n    <tr>\n      <th>0</th>\n      <td>reuters</td>\n      <td>Reuters</td>\n      <td>Reuters Editorial</td>\n      <td>NTSB says Autopilot engaged in 2018 California...</td>\n      <td>The National Transportation Safety Board said ...</td>\n      <td>https://www.reuters.com/article/us-tesla-crash...</td>\n      <td>https://s4.reutersmedia.net/resources/r/?m=02&amp;...</td>\n      <td>2019-09-03T16:22:20Z</td>\n      <td>WASHINGTON (Reuters) - The National Transporta...</td>\n      <td>0.0</td>\n      <td>0.0</td>\n      <td>0.0</td>\n      <td>2528.0</td>\n      <td>0.0</td>\n    </tr>\n    <tr>\n      <th>1</th>\n      <td>the-irish-times</td>\n      <td>The Irish Times</td>\n      <td>Eoin Burke-Kennedy</td>\n      <td>Unemployment falls to post-crash low of 5.2%</td>\n      <td>Latest monthly figures reflect continued growt...</td>\n      <td>https://www.irishtimes.com/business/economy/un...</td>\n      <td>https://www.irishtimes.com/image-creator/?id=1...</td>\n      <td>2019-09-03T10:32:28Z</td>\n      <td>The States jobless rate fell to 5.2 per cent l...</td>\n      <td>0.0</td>\n      <td>6.0</td>\n      <td>10.0</td>\n      <td>2.0</td>\n      <td>0.0</td>\n    </tr>\n    <tr>\n      <th>2</th>\n      <td>the-irish-times</td>\n      <td>The Irish Times</td>\n      <td>Deirdre McQuillan</td>\n      <td>Louise Kennedy AW2019: Long coats, sparkling t...</td>\n      <td>Autumn-winter collection features designer’s g...</td>\n      <td>https://www.irishtimes.com/life-and-style/fash...</td>\n      <td>https://www.irishtimes.com/image-creator/?id=1...</td>\n      <td>2019-09-03T14:40:00Z</td>\n      <td>Louise Kennedy is showing off her autumn-winte...</td>\n      <td>1.0</td>\n      <td>NaN</td>\n      <td>NaN</td>\n      <td>NaN</td>\n      <td>NaN</td>\n    </tr>\n    <tr>\n      <th>3</th>\n      <td>al-jazeera-english</td>\n      <td>Al Jazeera English</td>\n      <td>Al Jazeera</td>\n      <td>North Korean footballer Han joins Italian gian...</td>\n      <td>Han is the first North Korean player in the Se...</td>\n      <td>https://www.aljazeera.com/news/2019/09/north-k...</td>\n      <td>https://www.aljazeera.com/mritems/Images/2019/...</td>\n      <td>2019-09-03T17:25:39Z</td>\n      <td>Han Kwang Song, the first North Korean footbal...</td>\n      <td>0.0</td>\n      <td>0.0</td>\n      <td>0.0</td>\n      <td>7.0</td>\n      <td>0.0</td>\n    </tr>\n    <tr>\n      <th>4</th>\n      <td>bbc-news</td>\n      <td>BBC News</td>\n      <td>BBC News</td>\n      <td>UK government lawyer says proroguing parliamen...</td>\n      <td>The UK government's lawyer, David Johnston arg...</td>\n      <td>https://www.bbc.co.uk/news/av/uk-scotland-4956...</td>\n      <td>https://ichef.bbci.co.uk/news/1024/branded_new...</td>\n      <td>2019-09-03T14:39:21Z</td>\n      <td>NaN</td>\n      <td>0.0</td>\n      <td>0.0</td>\n      <td>0.0</td>\n      <td>0.0</td>\n      <td>0.0</td>\n    </tr>\n    <tr>\n      <th>...</th>\n      <td>...</td>\n      <td>...</td>\n      <td>...</td>\n      <td>...</td>\n      <td>...</td>\n      <td>...</td>\n      <td>...</td>\n      <td>...</td>\n      <td>...</td>\n      <td>...</td>\n      <td>...</td>\n      <td>...</td>\n      <td>...</td>\n      <td>...</td>\n    </tr>\n    <tr>\n      <th>10432</th>\n      <td>abc-news</td>\n      <td>ABC News</td>\n      <td>The Associated Press</td>\n      <td>Drop in US service sector activity raises econ...</td>\n      <td>Get breaking national and world news, broadcas...</td>\n      <td>https://abcnews.go.com/Business/wireStory/drop...</td>\n      <td>https://s.abcnews.com/images/US/WireAP_eb147c9...</td>\n      <td>2019-10-03T16:30:16Z</td>\n      <td>Growth in the U.S. economys vast services sect...</td>\n      <td>0.0</td>\n      <td>0.0</td>\n      <td>0.0</td>\n      <td>0.0</td>\n      <td>0.0</td>\n    </tr>\n    <tr>\n      <th>10433</th>\n      <td>reuters</td>\n      <td>Reuters</td>\n      <td>Sumeet Chatterjee</td>\n      <td>Banker defections pose challenge for Credit Su...</td>\n      <td>The announcement by Julius Baer this week that...</td>\n      <td>https://www.reuters.com/article/us-credit-suis...</td>\n      <td>https://s3.reutersmedia.net/resources/r/?m=02&amp;...</td>\n      <td>2019-10-03T15:59:52Z</td>\n      <td>ZURICH/HONG KONG (Reuters) - The announcement ...</td>\n      <td>0.0</td>\n      <td>0.0</td>\n      <td>0.0</td>\n      <td>627.0</td>\n      <td>0.0</td>\n    </tr>\n    <tr>\n      <th>10434</th>\n      <td>cnn</td>\n      <td>CNN</td>\n      <td>Lauren M. Johnson, CNN</td>\n      <td>A 5-year-old cancer survivor donates 3,000 toy...</td>\n      <td>Weston Newswanger is just a normal 5-year-old ...</td>\n      <td>https://www.cnn.com/2019/10/03/us/five-year-ol...</td>\n      <td>https://cdn.cnn.com/cnnnext/dam/assets/1910021...</td>\n      <td>2019-10-03T11:20:06Z</td>\n      <td>NaN</td>\n      <td>0.0</td>\n      <td>4072.0</td>\n      <td>179.0</td>\n      <td>466.0</td>\n      <td>0.0</td>\n    </tr>\n    <tr>\n      <th>10435</th>\n      <td>cbs-news</td>\n      <td>CBS News</td>\n      <td>CBS News</td>\n      <td>Fateful Connection</td>\n      <td>A detective is haunted by the case of two wome...</td>\n      <td>https://www.cbsnews.com/video/fateful-connecti...</td>\n      <td>https://cbsnews1.cbsistatic.com/hub/i/r/2019/1...</td>\n      <td>2019-10-03T16:40:03Z</td>\n      <td>NaN</td>\n      <td>0.0</td>\n      <td>0.0</td>\n      <td>0.0</td>\n      <td>0.0</td>\n      <td>0.0</td>\n    </tr>\n    <tr>\n      <th>10436</th>\n      <td>cbs-news</td>\n      <td>CBS News</td>\n      <td>CBS News</td>\n      <td>Love, Hate &amp; Obsession</td>\n      <td>Who wanted one-time millionaire Lanny Horwitz ...</td>\n      <td>https://www.cbsnews.com/video/love-hate-obsess...</td>\n      <td>https://cbsnews1.cbsistatic.com/hub/i/r/2017/0...</td>\n      <td>2019-10-03T16:35:13Z</td>\n      <td>NaN</td>\n      <td>0.0</td>\n      <td>0.0</td>\n      <td>0.0</td>\n      <td>0.0</td>\n      <td>0.0</td>\n    </tr>\n  </tbody>\n</table>\n<p>10437 rows × 14 columns</p>\n</div>"
     },
     "metadata": {},
     "execution_count": 141
    }
   ],
   "source": [
    "df"
   ]
  },
  {
   "cell_type": "code",
   "execution_count": 142,
   "metadata": {},
   "outputs": [],
   "source": [
    "df['reactions_count'] = df['engagement_reaction_count'] + df['engagement_comment_count'] + df['engagement_share_count']"
   ]
  },
  {
   "cell_type": "markdown",
   "metadata": {},
   "source": [
    "## Les revues les plus likées, commentées, et partagées"
   ]
  },
  {
   "cell_type": "code",
   "execution_count": 143,
   "metadata": {},
   "outputs": [
    {
     "output_type": "execute_result",
     "data": {
      "text/plain": [
       "                         top_article  engagement_reaction_count  \\\n",
       "source_name                                                       \n",
       "CNN                            112.0                  1218206.0   \n",
       "The New York Times              83.0                   790449.0   \n",
       "BBC News                       122.0                   545396.0   \n",
       "CBS News                       139.0                   459741.0   \n",
       "Reuters                        139.0                    16963.0   \n",
       "Business Insider               133.0                   216545.0   \n",
       "ABC News                       132.0                   343779.0   \n",
       "Al Jazeera English              39.0                   140410.0   \n",
       "The Wall Street Journal        128.0                    84124.0   \n",
       "Newsweek                        36.0                    93167.0   \n",
       "The Irish Times                129.0                    26838.0   \n",
       "460.0                            0.0                        0.0   \n",
       "ESPN                            82.0                        0.0   \n",
       "\n",
       "                         engagement_comment_count  engagement_share_count  \\\n",
       "source_name                                                                 \n",
       "CNN                                      344894.0                327778.0   \n",
       "The New York Times                       216373.0                241740.0   \n",
       "BBC News                                 207558.0                200636.0   \n",
       "CBS News                                 170960.0                108155.0   \n",
       "Reuters                                    7101.0                647095.0   \n",
       "Business Insider                         101292.0                311678.0   \n",
       "ABC News                                 102708.0                 82662.0   \n",
       "Al Jazeera English                        46005.0                 36031.0   \n",
       "The Wall Street Journal                   40065.0                 33173.0   \n",
       "Newsweek                                  32426.0                 29067.0   \n",
       "The Irish Times                           10514.0                  6947.0   \n",
       "460.0                                         0.0                     0.0   \n",
       "ESPN                                          0.0                     0.0   \n",
       "\n",
       "                         engagement_comment_plugin_count  reactions_count  \n",
       "source_name                                                                \n",
       "CNN                                                 30.0        1890878.0  \n",
       "The New York Times                                   0.0        1248562.0  \n",
       "BBC News                                             0.0         953590.0  \n",
       "CBS News                                             0.0         738856.0  \n",
       "Reuters                                              0.0         671159.0  \n",
       "Business Insider                                    80.0         629515.0  \n",
       "ABC News                                             1.0         529149.0  \n",
       "Al Jazeera English                                   9.0         222446.0  \n",
       "The Wall Street Journal                              0.0         157362.0  \n",
       "Newsweek                                             0.0         154660.0  \n",
       "The Irish Times                                      0.0          44299.0  \n",
       "460.0                                                0.0              0.0  \n",
       "ESPN                                                 0.0              0.0  "
      ],
      "text/html": "<div>\n<style scoped>\n    .dataframe tbody tr th:only-of-type {\n        vertical-align: middle;\n    }\n\n    .dataframe tbody tr th {\n        vertical-align: top;\n    }\n\n    .dataframe thead th {\n        text-align: right;\n    }\n</style>\n<table border=\"1\" class=\"dataframe\">\n  <thead>\n    <tr style=\"text-align: right;\">\n      <th></th>\n      <th>top_article</th>\n      <th>engagement_reaction_count</th>\n      <th>engagement_comment_count</th>\n      <th>engagement_share_count</th>\n      <th>engagement_comment_plugin_count</th>\n      <th>reactions_count</th>\n    </tr>\n    <tr>\n      <th>source_name</th>\n      <th></th>\n      <th></th>\n      <th></th>\n      <th></th>\n      <th></th>\n      <th></th>\n    </tr>\n  </thead>\n  <tbody>\n    <tr>\n      <th>CNN</th>\n      <td>112.0</td>\n      <td>1218206.0</td>\n      <td>344894.0</td>\n      <td>327778.0</td>\n      <td>30.0</td>\n      <td>1890878.0</td>\n    </tr>\n    <tr>\n      <th>The New York Times</th>\n      <td>83.0</td>\n      <td>790449.0</td>\n      <td>216373.0</td>\n      <td>241740.0</td>\n      <td>0.0</td>\n      <td>1248562.0</td>\n    </tr>\n    <tr>\n      <th>BBC News</th>\n      <td>122.0</td>\n      <td>545396.0</td>\n      <td>207558.0</td>\n      <td>200636.0</td>\n      <td>0.0</td>\n      <td>953590.0</td>\n    </tr>\n    <tr>\n      <th>CBS News</th>\n      <td>139.0</td>\n      <td>459741.0</td>\n      <td>170960.0</td>\n      <td>108155.0</td>\n      <td>0.0</td>\n      <td>738856.0</td>\n    </tr>\n    <tr>\n      <th>Reuters</th>\n      <td>139.0</td>\n      <td>16963.0</td>\n      <td>7101.0</td>\n      <td>647095.0</td>\n      <td>0.0</td>\n      <td>671159.0</td>\n    </tr>\n    <tr>\n      <th>Business Insider</th>\n      <td>133.0</td>\n      <td>216545.0</td>\n      <td>101292.0</td>\n      <td>311678.0</td>\n      <td>80.0</td>\n      <td>629515.0</td>\n    </tr>\n    <tr>\n      <th>ABC News</th>\n      <td>132.0</td>\n      <td>343779.0</td>\n      <td>102708.0</td>\n      <td>82662.0</td>\n      <td>1.0</td>\n      <td>529149.0</td>\n    </tr>\n    <tr>\n      <th>Al Jazeera English</th>\n      <td>39.0</td>\n      <td>140410.0</td>\n      <td>46005.0</td>\n      <td>36031.0</td>\n      <td>9.0</td>\n      <td>222446.0</td>\n    </tr>\n    <tr>\n      <th>The Wall Street Journal</th>\n      <td>128.0</td>\n      <td>84124.0</td>\n      <td>40065.0</td>\n      <td>33173.0</td>\n      <td>0.0</td>\n      <td>157362.0</td>\n    </tr>\n    <tr>\n      <th>Newsweek</th>\n      <td>36.0</td>\n      <td>93167.0</td>\n      <td>32426.0</td>\n      <td>29067.0</td>\n      <td>0.0</td>\n      <td>154660.0</td>\n    </tr>\n    <tr>\n      <th>The Irish Times</th>\n      <td>129.0</td>\n      <td>26838.0</td>\n      <td>10514.0</td>\n      <td>6947.0</td>\n      <td>0.0</td>\n      <td>44299.0</td>\n    </tr>\n    <tr>\n      <th>460.0</th>\n      <td>0.0</td>\n      <td>0.0</td>\n      <td>0.0</td>\n      <td>0.0</td>\n      <td>0.0</td>\n      <td>0.0</td>\n    </tr>\n    <tr>\n      <th>ESPN</th>\n      <td>82.0</td>\n      <td>0.0</td>\n      <td>0.0</td>\n      <td>0.0</td>\n      <td>0.0</td>\n      <td>0.0</td>\n    </tr>\n  </tbody>\n</table>\n</div>"
     },
     "metadata": {},
     "execution_count": 143
    }
   ],
   "source": [
    "#Afficher les revues les plus likées, commentées, et partagées\n",
    "df.groupby(by=[\"source_name\"]).sum('reactions_count').sort_values(by = ['reactions_count'], ascending = False)"
   ]
  },
  {
   "cell_type": "markdown",
   "metadata": {},
   "source": [
    "## Les  revues les moins likées, commentées, et partagées"
   ]
  },
  {
   "cell_type": "code",
   "execution_count": 144,
   "metadata": {},
   "outputs": [
    {
     "output_type": "execute_result",
     "data": {
      "text/plain": [
       "                         top_article  engagement_reaction_count  \\\n",
       "source_name                                                       \n",
       "460.0                            0.0                        0.0   \n",
       "ESPN                            82.0                        0.0   \n",
       "The Irish Times                129.0                    26838.0   \n",
       "Newsweek                        36.0                    93167.0   \n",
       "The Wall Street Journal        128.0                    84124.0   \n",
       "Al Jazeera English              39.0                   140410.0   \n",
       "ABC News                       132.0                   343779.0   \n",
       "Business Insider               133.0                   216545.0   \n",
       "Reuters                        139.0                    16963.0   \n",
       "CBS News                       139.0                   459741.0   \n",
       "BBC News                       122.0                   545396.0   \n",
       "The New York Times              83.0                   790449.0   \n",
       "CNN                            112.0                  1218206.0   \n",
       "\n",
       "                         engagement_comment_count  engagement_share_count  \\\n",
       "source_name                                                                 \n",
       "460.0                                         0.0                     0.0   \n",
       "ESPN                                          0.0                     0.0   \n",
       "The Irish Times                           10514.0                  6947.0   \n",
       "Newsweek                                  32426.0                 29067.0   \n",
       "The Wall Street Journal                   40065.0                 33173.0   \n",
       "Al Jazeera English                        46005.0                 36031.0   \n",
       "ABC News                                 102708.0                 82662.0   \n",
       "Business Insider                         101292.0                311678.0   \n",
       "Reuters                                    7101.0                647095.0   \n",
       "CBS News                                 170960.0                108155.0   \n",
       "BBC News                                 207558.0                200636.0   \n",
       "The New York Times                       216373.0                241740.0   \n",
       "CNN                                      344894.0                327778.0   \n",
       "\n",
       "                         engagement_comment_plugin_count  reactions_count  \n",
       "source_name                                                                \n",
       "460.0                                                0.0              0.0  \n",
       "ESPN                                                 0.0              0.0  \n",
       "The Irish Times                                      0.0          44299.0  \n",
       "Newsweek                                             0.0         154660.0  \n",
       "The Wall Street Journal                              0.0         157362.0  \n",
       "Al Jazeera English                                   9.0         222446.0  \n",
       "ABC News                                             1.0         529149.0  \n",
       "Business Insider                                    80.0         629515.0  \n",
       "Reuters                                              0.0         671159.0  \n",
       "CBS News                                             0.0         738856.0  \n",
       "BBC News                                             0.0         953590.0  \n",
       "The New York Times                                   0.0        1248562.0  \n",
       "CNN                                                 30.0        1890878.0  "
      ],
      "text/html": "<div>\n<style scoped>\n    .dataframe tbody tr th:only-of-type {\n        vertical-align: middle;\n    }\n\n    .dataframe tbody tr th {\n        vertical-align: top;\n    }\n\n    .dataframe thead th {\n        text-align: right;\n    }\n</style>\n<table border=\"1\" class=\"dataframe\">\n  <thead>\n    <tr style=\"text-align: right;\">\n      <th></th>\n      <th>top_article</th>\n      <th>engagement_reaction_count</th>\n      <th>engagement_comment_count</th>\n      <th>engagement_share_count</th>\n      <th>engagement_comment_plugin_count</th>\n      <th>reactions_count</th>\n    </tr>\n    <tr>\n      <th>source_name</th>\n      <th></th>\n      <th></th>\n      <th></th>\n      <th></th>\n      <th></th>\n      <th></th>\n    </tr>\n  </thead>\n  <tbody>\n    <tr>\n      <th>460.0</th>\n      <td>0.0</td>\n      <td>0.0</td>\n      <td>0.0</td>\n      <td>0.0</td>\n      <td>0.0</td>\n      <td>0.0</td>\n    </tr>\n    <tr>\n      <th>ESPN</th>\n      <td>82.0</td>\n      <td>0.0</td>\n      <td>0.0</td>\n      <td>0.0</td>\n      <td>0.0</td>\n      <td>0.0</td>\n    </tr>\n    <tr>\n      <th>The Irish Times</th>\n      <td>129.0</td>\n      <td>26838.0</td>\n      <td>10514.0</td>\n      <td>6947.0</td>\n      <td>0.0</td>\n      <td>44299.0</td>\n    </tr>\n    <tr>\n      <th>Newsweek</th>\n      <td>36.0</td>\n      <td>93167.0</td>\n      <td>32426.0</td>\n      <td>29067.0</td>\n      <td>0.0</td>\n      <td>154660.0</td>\n    </tr>\n    <tr>\n      <th>The Wall Street Journal</th>\n      <td>128.0</td>\n      <td>84124.0</td>\n      <td>40065.0</td>\n      <td>33173.0</td>\n      <td>0.0</td>\n      <td>157362.0</td>\n    </tr>\n    <tr>\n      <th>Al Jazeera English</th>\n      <td>39.0</td>\n      <td>140410.0</td>\n      <td>46005.0</td>\n      <td>36031.0</td>\n      <td>9.0</td>\n      <td>222446.0</td>\n    </tr>\n    <tr>\n      <th>ABC News</th>\n      <td>132.0</td>\n      <td>343779.0</td>\n      <td>102708.0</td>\n      <td>82662.0</td>\n      <td>1.0</td>\n      <td>529149.0</td>\n    </tr>\n    <tr>\n      <th>Business Insider</th>\n      <td>133.0</td>\n      <td>216545.0</td>\n      <td>101292.0</td>\n      <td>311678.0</td>\n      <td>80.0</td>\n      <td>629515.0</td>\n    </tr>\n    <tr>\n      <th>Reuters</th>\n      <td>139.0</td>\n      <td>16963.0</td>\n      <td>7101.0</td>\n      <td>647095.0</td>\n      <td>0.0</td>\n      <td>671159.0</td>\n    </tr>\n    <tr>\n      <th>CBS News</th>\n      <td>139.0</td>\n      <td>459741.0</td>\n      <td>170960.0</td>\n      <td>108155.0</td>\n      <td>0.0</td>\n      <td>738856.0</td>\n    </tr>\n    <tr>\n      <th>BBC News</th>\n      <td>122.0</td>\n      <td>545396.0</td>\n      <td>207558.0</td>\n      <td>200636.0</td>\n      <td>0.0</td>\n      <td>953590.0</td>\n    </tr>\n    <tr>\n      <th>The New York Times</th>\n      <td>83.0</td>\n      <td>790449.0</td>\n      <td>216373.0</td>\n      <td>241740.0</td>\n      <td>0.0</td>\n      <td>1248562.0</td>\n    </tr>\n    <tr>\n      <th>CNN</th>\n      <td>112.0</td>\n      <td>1218206.0</td>\n      <td>344894.0</td>\n      <td>327778.0</td>\n      <td>30.0</td>\n      <td>1890878.0</td>\n    </tr>\n  </tbody>\n</table>\n</div>"
     },
     "metadata": {},
     "execution_count": 144
    }
   ],
   "source": [
    "#Afficher les  revues les moins likées, commentées, et partagées\n",
    "df.groupby(by=[\"source_name\"]).sum('reactions_count').sort_values(by = ['reactions_count'], ascending = True)"
   ]
  },
  {
   "cell_type": "markdown",
   "metadata": {},
   "source": [
    "## Présentation graphique"
   ]
  },
  {
   "cell_type": "code",
   "execution_count": 145,
   "metadata": {},
   "outputs": [
    {
     "output_type": "error",
     "ename": "ValueError",
     "evalue": "'explode' must be of length 'x'",
     "traceback": [
      "\u001b[1;31m---------------------------------------------------------------------------\u001b[0m",
      "\u001b[1;31mValueError\u001b[0m                                Traceback (most recent call last)",
      "\u001b[1;32m<ipython-input-145-5015b650cac9>\u001b[0m in \u001b[0;36m<module>\u001b[1;34m\u001b[0m\n\u001b[0;32m      8\u001b[0m \u001b[0mexplode\u001b[0m \u001b[1;33m=\u001b[0m \u001b[1;33m(\u001b[0m\u001b[1;36m0.2\u001b[0m\u001b[1;33m,\u001b[0m \u001b[1;36m0\u001b[0m\u001b[1;33m,\u001b[0m \u001b[1;36m0\u001b[0m\u001b[1;33m,\u001b[0m \u001b[1;36m0\u001b[0m\u001b[1;33m,\u001b[0m \u001b[1;36m0\u001b[0m\u001b[1;33m,\u001b[0m \u001b[1;36m0\u001b[0m\u001b[1;33m,\u001b[0m \u001b[1;36m0\u001b[0m\u001b[1;33m)\u001b[0m  \u001b[1;31m# only \"explode\" the biggest and smaller revue\u001b[0m\u001b[1;33m\u001b[0m\u001b[1;33m\u001b[0m\u001b[0m\n\u001b[0;32m      9\u001b[0m \u001b[0mplt\u001b[0m\u001b[1;33m.\u001b[0m\u001b[0mtitle\u001b[0m\u001b[1;33m(\u001b[0m\u001b[1;34m'Pourcentage de réactions pour les articles par revue'\u001b[0m\u001b[1;33m,\u001b[0m \u001b[0mfontdict\u001b[0m\u001b[1;33m=\u001b[0m\u001b[1;33m{\u001b[0m\u001b[1;34m'fontweight'\u001b[0m\u001b[1;33m:\u001b[0m\u001b[1;34m'bold'\u001b[0m\u001b[1;33m,\u001b[0m \u001b[1;34m'fontsize'\u001b[0m\u001b[1;33m:\u001b[0m\u001b[1;36m18\u001b[0m\u001b[1;33m}\u001b[0m\u001b[1;33m,\u001b[0m \u001b[0my\u001b[0m\u001b[1;33m=\u001b[0m\u001b[1;33m-\u001b[0m\u001b[1;36m0.4\u001b[0m\u001b[1;33m)\u001b[0m\u001b[1;33m\u001b[0m\u001b[1;33m\u001b[0m\u001b[0m\n\u001b[1;32m---> 10\u001b[1;33m \u001b[0mplt\u001b[0m\u001b[1;33m.\u001b[0m\u001b[0mpie\u001b[0m\u001b[1;33m(\u001b[0m\u001b[0mvaluesStat\u001b[0m\u001b[1;33m,\u001b[0m \u001b[0mlabels\u001b[0m\u001b[1;33m=\u001b[0m\u001b[0mlabels\u001b[0m\u001b[1;33m,\u001b[0m \u001b[0mautopct\u001b[0m\u001b[1;33m=\u001b[0m\u001b[1;34m'%1.1f%%'\u001b[0m\u001b[1;33m,\u001b[0m \u001b[0mshadow\u001b[0m\u001b[1;33m=\u001b[0m\u001b[1;32mTrue\u001b[0m\u001b[1;33m,\u001b[0m \u001b[0mexplode\u001b[0m\u001b[1;33m=\u001b[0m\u001b[0mexplode\u001b[0m\u001b[1;33m,\u001b[0m \u001b[0mradius\u001b[0m\u001b[1;33m=\u001b[0m\u001b[1;36m1.5\u001b[0m\u001b[1;33m)\u001b[0m\u001b[1;33m\u001b[0m\u001b[1;33m\u001b[0m\u001b[0m\n\u001b[0m\u001b[0;32m     11\u001b[0m \u001b[0mplt\u001b[0m\u001b[1;33m.\u001b[0m\u001b[0mlegend\u001b[0m\u001b[1;33m(\u001b[0m\u001b[0mlabels\u001b[0m\u001b[1;33m,\u001b[0m \u001b[0mtitle\u001b[0m\u001b[1;33m=\u001b[0m\u001b[1;34m\"Revues\"\u001b[0m\u001b[1;33m,\u001b[0m \u001b[0mbbox_to_anchor\u001b[0m\u001b[1;33m=\u001b[0m\u001b[1;33m(\u001b[0m\u001b[1;36m1\u001b[0m\u001b[1;33m,\u001b[0m \u001b[1;36m0\u001b[0m\u001b[1;33m,\u001b[0m \u001b[1;36m1.5\u001b[0m\u001b[1;33m,\u001b[0m \u001b[1;36m1\u001b[0m\u001b[1;33m)\u001b[0m\u001b[1;33m)\u001b[0m\u001b[1;33m\u001b[0m\u001b[1;33m\u001b[0m\u001b[0m\n\u001b[0;32m     12\u001b[0m \u001b[0mplt\u001b[0m\u001b[1;33m.\u001b[0m\u001b[0mshow\u001b[0m\u001b[1;33m(\u001b[0m\u001b[1;33m)\u001b[0m\u001b[1;33m\u001b[0m\u001b[1;33m\u001b[0m\u001b[0m\n",
      "\u001b[1;32m~\\AppData\\Local\\Programs\\Python\\Python39\\lib\\site-packages\\matplotlib\\pyplot.py\u001b[0m in \u001b[0;36mpie\u001b[1;34m(x, explode, labels, colors, autopct, pctdistance, shadow, labeldistance, startangle, radius, counterclock, wedgeprops, textprops, center, frame, rotatelabels, normalize, data)\u001b[0m\n\u001b[0;32m   2825\u001b[0m         \u001b[0mtextprops\u001b[0m\u001b[1;33m=\u001b[0m\u001b[1;32mNone\u001b[0m\u001b[1;33m,\u001b[0m \u001b[0mcenter\u001b[0m\u001b[1;33m=\u001b[0m\u001b[1;33m(\u001b[0m\u001b[1;36m0\u001b[0m\u001b[1;33m,\u001b[0m \u001b[1;36m0\u001b[0m\u001b[1;33m)\u001b[0m\u001b[1;33m,\u001b[0m \u001b[0mframe\u001b[0m\u001b[1;33m=\u001b[0m\u001b[1;32mFalse\u001b[0m\u001b[1;33m,\u001b[0m\u001b[1;33m\u001b[0m\u001b[1;33m\u001b[0m\u001b[0m\n\u001b[0;32m   2826\u001b[0m         rotatelabels=False, *, normalize=None, data=None):\n\u001b[1;32m-> 2827\u001b[1;33m     return gca().pie(\n\u001b[0m\u001b[0;32m   2828\u001b[0m         \u001b[0mx\u001b[0m\u001b[1;33m,\u001b[0m \u001b[0mexplode\u001b[0m\u001b[1;33m=\u001b[0m\u001b[0mexplode\u001b[0m\u001b[1;33m,\u001b[0m \u001b[0mlabels\u001b[0m\u001b[1;33m=\u001b[0m\u001b[0mlabels\u001b[0m\u001b[1;33m,\u001b[0m \u001b[0mcolors\u001b[0m\u001b[1;33m=\u001b[0m\u001b[0mcolors\u001b[0m\u001b[1;33m,\u001b[0m\u001b[1;33m\u001b[0m\u001b[1;33m\u001b[0m\u001b[0m\n\u001b[0;32m   2829\u001b[0m         \u001b[0mautopct\u001b[0m\u001b[1;33m=\u001b[0m\u001b[0mautopct\u001b[0m\u001b[1;33m,\u001b[0m \u001b[0mpctdistance\u001b[0m\u001b[1;33m=\u001b[0m\u001b[0mpctdistance\u001b[0m\u001b[1;33m,\u001b[0m \u001b[0mshadow\u001b[0m\u001b[1;33m=\u001b[0m\u001b[0mshadow\u001b[0m\u001b[1;33m,\u001b[0m\u001b[1;33m\u001b[0m\u001b[1;33m\u001b[0m\u001b[0m\n",
      "\u001b[1;32m~\\AppData\\Local\\Programs\\Python\\Python39\\lib\\site-packages\\matplotlib\\__init__.py\u001b[0m in \u001b[0;36minner\u001b[1;34m(ax, data, *args, **kwargs)\u001b[0m\n\u001b[0;32m   1445\u001b[0m     \u001b[1;32mdef\u001b[0m \u001b[0minner\u001b[0m\u001b[1;33m(\u001b[0m\u001b[0max\u001b[0m\u001b[1;33m,\u001b[0m \u001b[1;33m*\u001b[0m\u001b[0margs\u001b[0m\u001b[1;33m,\u001b[0m \u001b[0mdata\u001b[0m\u001b[1;33m=\u001b[0m\u001b[1;32mNone\u001b[0m\u001b[1;33m,\u001b[0m \u001b[1;33m**\u001b[0m\u001b[0mkwargs\u001b[0m\u001b[1;33m)\u001b[0m\u001b[1;33m:\u001b[0m\u001b[1;33m\u001b[0m\u001b[1;33m\u001b[0m\u001b[0m\n\u001b[0;32m   1446\u001b[0m         \u001b[1;32mif\u001b[0m \u001b[0mdata\u001b[0m \u001b[1;32mis\u001b[0m \u001b[1;32mNone\u001b[0m\u001b[1;33m:\u001b[0m\u001b[1;33m\u001b[0m\u001b[1;33m\u001b[0m\u001b[0m\n\u001b[1;32m-> 1447\u001b[1;33m             \u001b[1;32mreturn\u001b[0m \u001b[0mfunc\u001b[0m\u001b[1;33m(\u001b[0m\u001b[0max\u001b[0m\u001b[1;33m,\u001b[0m \u001b[1;33m*\u001b[0m\u001b[0mmap\u001b[0m\u001b[1;33m(\u001b[0m\u001b[0msanitize_sequence\u001b[0m\u001b[1;33m,\u001b[0m \u001b[0margs\u001b[0m\u001b[1;33m)\u001b[0m\u001b[1;33m,\u001b[0m \u001b[1;33m**\u001b[0m\u001b[0mkwargs\u001b[0m\u001b[1;33m)\u001b[0m\u001b[1;33m\u001b[0m\u001b[1;33m\u001b[0m\u001b[0m\n\u001b[0m\u001b[0;32m   1448\u001b[0m \u001b[1;33m\u001b[0m\u001b[0m\n\u001b[0;32m   1449\u001b[0m         \u001b[0mbound\u001b[0m \u001b[1;33m=\u001b[0m \u001b[0mnew_sig\u001b[0m\u001b[1;33m.\u001b[0m\u001b[0mbind\u001b[0m\u001b[1;33m(\u001b[0m\u001b[0max\u001b[0m\u001b[1;33m,\u001b[0m \u001b[1;33m*\u001b[0m\u001b[0margs\u001b[0m\u001b[1;33m,\u001b[0m \u001b[1;33m**\u001b[0m\u001b[0mkwargs\u001b[0m\u001b[1;33m)\u001b[0m\u001b[1;33m\u001b[0m\u001b[1;33m\u001b[0m\u001b[0m\n",
      "\u001b[1;32m~\\AppData\\Local\\Programs\\Python\\Python39\\lib\\site-packages\\matplotlib\\axes\\_axes.py\u001b[0m in \u001b[0;36mpie\u001b[1;34m(self, x, explode, labels, colors, autopct, pctdistance, shadow, labeldistance, startangle, radius, counterclock, wedgeprops, textprops, center, frame, rotatelabels, normalize)\u001b[0m\n\u001b[0;32m   3024\u001b[0m             \u001b[1;32mraise\u001b[0m \u001b[0mValueError\u001b[0m\u001b[1;33m(\u001b[0m\u001b[1;34m\"'label' must be of length 'x'\"\u001b[0m\u001b[1;33m)\u001b[0m\u001b[1;33m\u001b[0m\u001b[1;33m\u001b[0m\u001b[0m\n\u001b[0;32m   3025\u001b[0m         \u001b[1;32mif\u001b[0m \u001b[0mlen\u001b[0m\u001b[1;33m(\u001b[0m\u001b[0mx\u001b[0m\u001b[1;33m)\u001b[0m \u001b[1;33m!=\u001b[0m \u001b[0mlen\u001b[0m\u001b[1;33m(\u001b[0m\u001b[0mexplode\u001b[0m\u001b[1;33m)\u001b[0m\u001b[1;33m:\u001b[0m\u001b[1;33m\u001b[0m\u001b[1;33m\u001b[0m\u001b[0m\n\u001b[1;32m-> 3026\u001b[1;33m             \u001b[1;32mraise\u001b[0m \u001b[0mValueError\u001b[0m\u001b[1;33m(\u001b[0m\u001b[1;34m\"'explode' must be of length 'x'\"\u001b[0m\u001b[1;33m)\u001b[0m\u001b[1;33m\u001b[0m\u001b[1;33m\u001b[0m\u001b[0m\n\u001b[0m\u001b[0;32m   3027\u001b[0m         \u001b[1;32mif\u001b[0m \u001b[0mcolors\u001b[0m \u001b[1;32mis\u001b[0m \u001b[1;32mNone\u001b[0m\u001b[1;33m:\u001b[0m\u001b[1;33m\u001b[0m\u001b[1;33m\u001b[0m\u001b[0m\n\u001b[0;32m   3028\u001b[0m             \u001b[0mget_next_color\u001b[0m \u001b[1;33m=\u001b[0m \u001b[0mself\u001b[0m\u001b[1;33m.\u001b[0m\u001b[0m_get_patches_for_fill\u001b[0m\u001b[1;33m.\u001b[0m\u001b[0mget_next_color\u001b[0m\u001b[1;33m\u001b[0m\u001b[1;33m\u001b[0m\u001b[0m\n",
      "\u001b[1;31mValueError\u001b[0m: 'explode' must be of length 'x'"
     ]
    }
   ],
   "source": [
    "tab1 = df.groupby(by=[\"source_name\"]).sum('reactions_count').sort_values(by = ['reactions_count'], ascending = False).head(5)\n",
    "tab2 = df.groupby(by=[\"source_name\"]).sum('reactions_count').sort_values(by = ['reactions_count'], ascending = False)[5:]\n",
    "autre = df['reactions_count'].sum()\n",
    "valuesStat = list(tab1['reactions_count'])\n",
    "valuesStat.append(autre)\n",
    "labels = list(tab1.index)\n",
    "labels.append('Autre')\n",
    "explode = (0.2, 0, 0, 0, 0, 0)  # only \"explode\" the biggest and smaller revue\n",
    "plt.title('Pourcentage de réactions pour les articles par revue', fontdict={'fontweight':'bold', 'fontsize':18}, y=-0.4)\n",
    "plt.pie(valuesStat, labels=labels, autopct='%1.1f%%', shadow=True, explode=explode, radius=1.5)\n",
    "plt.legend(labels, title=\"Revues\", bbox_to_anchor=(1, 0, 1.5, 1))\n",
    "plt.show()"
   ]
  },
  {
   "cell_type": "code",
   "execution_count": null,
   "metadata": {},
   "outputs": [],
   "source": []
  }
 ],
 "metadata": {
  "kernelspec": {
   "display_name": "Python 3",
   "language": "python",
   "name": "python3"
  },
  "language_info": {
   "codemirror_mode": {
    "name": "ipython",
    "version": 3
   },
   "file_extension": ".py",
   "mimetype": "text/x-python",
   "name": "python",
   "nbconvert_exporter": "python",
   "pygments_lexer": "ipython3",
   "version": "3.9.0-final"
  }
 },
 "nbformat": 4,
 "nbformat_minor": 2
}